{
 "cells": [
  {
   "cell_type": "markdown",
   "metadata": {},
   "source": [
    "# Movie Recommendations\n",
    "---"
   ]
  },
  {
   "attachments": {},
   "cell_type": "markdown",
   "metadata": {},
   "source": [
    "### Problem Statement\n",
    "Build a movie recommendation system that recommends relevant movies to users based on their historical interactions and other user's preferences."
   ]
  },
  {
   "cell_type": "markdown",
   "metadata": {},
   "source": [
    "### 1. Import Python libraries"
   ]
  },
  {
   "cell_type": "code",
   "execution_count": 2,
   "metadata": {},
   "outputs": [],
   "source": [
    "# import libraries for data manipulation and math calculations\n",
    "import pandas as pd\n",
    "import numpy as np\n",
    "\n",
    "# import libraries for data visualization\n",
    "import matplotlib.pyplot as plt\n",
    "from matplotlib.gridspec import GridSpec\n",
    "import seaborn as sns\n",
    "\n",
    "# import surprise libraries for recommender systems.\n",
    "from surprise import accuracy\n",
    "# class is used to parse a file containing ratings, data should be in structure - user ; item ; rating\n",
    "from surprise.reader import Reader\n",
    "# class for loading datasets\n",
    "from surprise.dataset import Dataset\n",
    "# for model tuning model hyper-parameters\n",
    "from surprise.model_selection import GridSearchCV\n",
    "# for splitting the rating data in train and test dataset\n",
    "from surprise.model_selection import train_test_split\n",
    "# for implementing similarity based recommendation system\n",
    "from surprise.prediction_algorithms.knns import KNNBasic\n",
    "# for implementing matrix factorization based recommendation system\n",
    "from surprise.prediction_algorithms.matrix_factorization import SVD\n",
    "# for implementing cross validation\n",
    "from surprise.model_selection import KFold\n",
    "\n",
    "from collections import defaultdict, OrderedDict\n",
    "\n",
    "# import warnings library to silence some obsolete elements, such as keyword, function or class, etc.\n",
    "import warnings\n",
    "warnings.filterwarnings(\"ignore\")"
   ]
  },
  {
   "cell_type": "markdown",
   "metadata": {},
   "source": [
    "### 2. Import Dataset"
   ]
  },
  {
   "cell_type": "code",
   "execution_count": 3,
   "metadata": {},
   "outputs": [
    {
     "data": {
      "text/html": [
       "<div>\n",
       "<style scoped>\n",
       "    .dataframe tbody tr th:only-of-type {\n",
       "        vertical-align: middle;\n",
       "    }\n",
       "\n",
       "    .dataframe tbody tr th {\n",
       "        vertical-align: top;\n",
       "    }\n",
       "\n",
       "    .dataframe thead th {\n",
       "        text-align: right;\n",
       "    }\n",
       "</style>\n",
       "<table border=\"1\" class=\"dataframe\">\n",
       "  <thead>\n",
       "    <tr style=\"text-align: right;\">\n",
       "      <th></th>\n",
       "      <th>userId</th>\n",
       "      <th>movieId</th>\n",
       "      <th>rating</th>\n",
       "      <th>timestamp</th>\n",
       "    </tr>\n",
       "  </thead>\n",
       "  <tbody>\n",
       "    <tr>\n",
       "      <th>0</th>\n",
       "      <td>1</td>\n",
       "      <td>31</td>\n",
       "      <td>2.5</td>\n",
       "      <td>1260759144</td>\n",
       "    </tr>\n",
       "    <tr>\n",
       "      <th>1</th>\n",
       "      <td>1</td>\n",
       "      <td>1029</td>\n",
       "      <td>3.0</td>\n",
       "      <td>1260759179</td>\n",
       "    </tr>\n",
       "    <tr>\n",
       "      <th>2</th>\n",
       "      <td>1</td>\n",
       "      <td>1061</td>\n",
       "      <td>3.0</td>\n",
       "      <td>1260759182</td>\n",
       "    </tr>\n",
       "    <tr>\n",
       "      <th>3</th>\n",
       "      <td>1</td>\n",
       "      <td>1129</td>\n",
       "      <td>2.0</td>\n",
       "      <td>1260759185</td>\n",
       "    </tr>\n",
       "    <tr>\n",
       "      <th>4</th>\n",
       "      <td>1</td>\n",
       "      <td>1172</td>\n",
       "      <td>4.0</td>\n",
       "      <td>1260759205</td>\n",
       "    </tr>\n",
       "  </tbody>\n",
       "</table>\n",
       "</div>"
      ],
      "text/plain": [
       "   userId  movieId  rating   timestamp\n",
       "0       1       31     2.5  1260759144\n",
       "1       1     1029     3.0  1260759179\n",
       "2       1     1061     3.0  1260759182\n",
       "3       1     1129     2.0  1260759185\n",
       "4       1     1172     4.0  1260759205"
      ]
     },
     "execution_count": 3,
     "metadata": {},
     "output_type": "execute_result"
    }
   ],
   "source": [
    "df = pd.read_csv(\"dataset/ratings.csv\")\n",
    "df.head()\n",
    "\n",
    "# The ratings dataset contains the following attributes:\n",
    "#   1. userId\n",
    "#   2. movieId\n",
    "#   3. rating\n",
    "#   4. timestamp"
   ]
  },
  {
   "cell_type": "markdown",
   "metadata": {},
   "source": [
    "### 3. Exploratory Data Analysis"
   ]
  },
  {
   "cell_type": "markdown",
   "metadata": {},
   "source": [
    "#### *a. Dataset description*"
   ]
  },
  {
   "cell_type": "code",
   "execution_count": 4,
   "metadata": {},
   "outputs": [
    {
     "name": "stdout",
     "output_type": "stream",
     "text": [
      "<class 'pandas.core.frame.DataFrame'>\n",
      "RangeIndex: 100004 entries, 0 to 100003\n",
      "Data columns (total 4 columns):\n",
      " #   Column     Non-Null Count   Dtype  \n",
      "---  ------     --------------   -----  \n",
      " 0   userId     100004 non-null  int64  \n",
      " 1   movieId    100004 non-null  int64  \n",
      " 2   rating     100004 non-null  float64\n",
      " 3   timestamp  100004 non-null  int64  \n",
      "dtypes: float64(1), int64(3)\n",
      "memory usage: 3.1 MB\n"
     ]
    }
   ],
   "source": [
    "df.info()"
   ]
  },
  {
   "cell_type": "markdown",
   "metadata": {},
   "source": [
    "**Obsevation:**\n",
    "\n",
    "- 1. There are 100,004 observations and 4 columns in the data\n",
    "- 2. All the columns are of numeric data type\n",
    "- 3. The data type of the timestamp column is int64 which is not correct. We can convert this to DateTime format but we don't need timestamp for our analysis. Hence, we can drop this column"
   ]
  },
  {
   "cell_type": "code",
   "execution_count": 5,
   "metadata": {},
   "outputs": [],
   "source": [
    "# Dropping timestamp variable\n",
    "# --------------------------------------\n",
    "\n",
    "df.drop('timestamp', axis = 1, inplace = True)"
   ]
  },
  {
   "cell_type": "markdown",
   "metadata": {},
   "source": [
    "#### *b. Univariate Analysis*"
   ]
  },
  {
   "cell_type": "code",
   "execution_count": 6,
   "metadata": {},
   "outputs": [
    {
     "name": "stdout",
     "output_type": "stream",
     "text": [
      "Variable: userId\n",
      "--------------------------------------\n",
      "Variable name: userId - User Identification Number\n",
      "Variable type: int64\n",
      "Variable range: 670\n",
      "Total number of users: 671\n",
      "Top 10 users with most interactions: [547, 564, 624, 15, 73, 452, 468, 380, 311, 30]\n",
      "\n",
      "plot - Top 10 users with most interactions\n",
      "--------------------------------------\n"
     ]
    },
    {
     "data": {
      "image/png": "[encoded data removed]",
      "text/plain": [
       "<Figure size 1440x360 with 1 Axes>"
      ]
     },
     "metadata": {
      "needs_background": "light"
     },
     "output_type": "display_data"
    }
   ],
   "source": [
    "# userId \n",
    "# --------------------------------------\n",
    "print('Variable: userId')\n",
    "print('--------------------------------------')\n",
    "print('Variable name: userId - User Identification Number')\n",
    "print('Variable type: ' + str(df.userId.dtype))\n",
    "print('Variable range: ' + str(np.ptp(df.userId)))\n",
    "print('Total number of users: ' + str(df.userId.nunique()))\n",
    "print('Top 10 users with most interactions: ' + str(list(df.userId.value_counts().sort_values(ascending = False).head(10).index)))\n",
    "\n",
    "# plot\n",
    "# --------------------------------------\n",
    "\n",
    "print('')\n",
    "print('plot - Top 10 users with most interactions')\n",
    "print('--------------------------------------')\n",
    "\n",
    "# creating x and y axis values\n",
    "xpos = list(df.userId.value_counts().sort_values(ascending = False).head(10).index)\n",
    "userInteractonsCount = list(df.userId.value_counts().sort_values(ascending = False).head(10))\n",
    "\n",
    "plt.figure(figsize=(20,5))\n",
    "plt.title('Top 10 users with most interactions')\n",
    "plt.ylabel('Number of interactions')\n",
    "sns.barplot(x = xpos, y = userInteractonsCount, order = xpos);\n",
    "plt.show()"
   ]
  },
  {
   "cell_type": "code",
   "execution_count": 7,
   "metadata": {},
   "outputs": [
    {
     "name": "stdout",
     "output_type": "stream",
     "text": [
      "Variable: movieId\n",
      "--------------------------------------\n",
      "Variable name: movieId - Movie Identification Number\n",
      "Variable type: int64\n",
      "Variable range: 163948\n",
      "Total number of movies: 9066\n",
      "Top 10 most interacted movies [356, 296, 318, 593, 260, 480, 2571, 1, 527, 589]\n",
      "\n",
      "plot - Top 10 movies with most interactions\n",
      "--------------------------------------\n"
     ]
    },
    {
     "data": {
      "image/png": "[encoded data removed]",
      "text/plain": [
       "<Figure size 1440x360 with 1 Axes>"
      ]
     },
     "metadata": {
      "needs_background": "light"
     },
     "output_type": "display_data"
    }
   ],
   "source": [
    "# movieId \n",
    "# --------------------------------------\n",
    "\n",
    "print('Variable: movieId')\n",
    "print('--------------------------------------')\n",
    "print('Variable name: movieId - Movie Identification Number')\n",
    "print('Variable type: ' + str(df.movieId.dtype))\n",
    "print('Variable range: ' + str(np.ptp(df.movieId)))\n",
    "print('Total number of movies: ' + str(df.movieId.nunique()))\n",
    "print('Top 10 most interacted movies ' + str(list(df.movieId.value_counts().sort_values(ascending=False).head(10).index)))\n",
    "\n",
    "# plot\n",
    "# --------------------------------------\n",
    "\n",
    "print('')\n",
    "print('plot - Top 10 movies with most interactions')\n",
    "print('--------------------------------------')\n",
    "\n",
    "# creating x and y axis values\n",
    "xpos = list(df.movieId.value_counts().sort_values(ascending=False).head(10).index)\n",
    "movieInteractonsCount = list(df.movieId.value_counts().sort_values(ascending=False).head(10))\n",
    "\n",
    "plt.figure(figsize=(20,5))\n",
    "plt.title('Top 10 movies with most interactions')\n",
    "plt.ylabel('Number of interactions')\n",
    "sns.barplot(x = xpos, y = movieInteractonsCount, order = xpos);\n",
    "plt.show()"
   ]
  },
  {
   "cell_type": "code",
   "execution_count": 8,
   "metadata": {},
   "outputs": [
    {
     "name": "stdout",
     "output_type": "stream",
     "text": [
      "Variable: rating\n",
      "--------------------------------------\n",
      "Variable name: rating - Movie rating\n",
      "Variable type: float64\n",
      "Total number of rating options: 10\n",
      "Skew : -0.67\n",
      "\n",
      "plot - Rating Distribution\n",
      "--------------------------------------\n"
     ]
    },
    {
     "data": {
      "image/png": "[encoded data removed]",
      "text/plain": [
       "<Figure size 1440x360 with 1 Axes>"
      ]
     },
     "metadata": {
      "needs_background": "light"
     },
     "output_type": "display_data"
    }
   ],
   "source": [
    "# rating \n",
    "# --------------------------------------\n",
    "print('Variable: rating')\n",
    "print('--------------------------------------')\n",
    "print('Variable name: rating - Movie rating')\n",
    "print('Variable type: ' + str(df.rating.dtype))\n",
    "print('Total number of rating options: ' + str(df.rating.nunique()))\n",
    "print('Skew :',round(df['rating'].skew(),2))\n",
    "\n",
    "# plot\n",
    "# --------------------------------------\n",
    "\n",
    "print('')\n",
    "print('plot - Rating Distribution')\n",
    "print('--------------------------------------')\n",
    "\n",
    "plt.figure(figsize=(20,5))\n",
    "plt.title('Rating Distribution')\n",
    "sns.countplot(x = 'rating', data = df);"
   ]
  },
  {
   "cell_type": "markdown",
   "metadata": {},
   "source": [
    "**Observation**\n",
    "\n",
    "1. Distribution of ratings is left skewed. Most ratings are in the upper side of the rating scale. 3.0 and above\n",
    "2. Options 3.0, 4.0, and 5.0 are the most frequent rating options. \n",
    "3. Rating 4 is the dominant option with 1/3 (28750/100004) of the total number of observations"
   ]
  },
  {
   "cell_type": "markdown",
   "metadata": {},
   "source": [
    "### 4. Data Preprocessing"
   ]
  },
  {
   "cell_type": "markdown",
   "metadata": {},
   "source": [
    "#### *a. Making the dataset into surprise dataset*"
   ]
  },
  {
   "cell_type": "code",
   "execution_count": 9,
   "metadata": {},
   "outputs": [],
   "source": [
    "# Making the dataset into surprise dataset and splitting it into train and test set\n",
    "# --------------------------------------\n",
    "# Below we are loading the rating dataset, which is a pandas dataframe, into a different format called \n",
    "# surprise.dataset.DatasetAutoFolds which is required by this library. To do this we will be using the \n",
    "# classes Reader and Dataset\n",
    "\n",
    "# instantiating Reader scale with expected rating scale\n",
    "reader = Reader(rating_scale = (0, 5))\n",
    "# loading the rating dataset\n",
    "data = Dataset.load_from_df(df[['userId', 'movieId', 'rating']], reader)\n",
    "# splitting the data into train and test dataset\n",
    "trainset, testset = train_test_split(data, test_size = 0.2, random_state=42)"
   ]
  },
  {
   "cell_type": "markdown",
   "metadata": {},
   "source": [
    "### 5. Model Building, Training and Testing"
   ]
  },
  {
   "cell_type": "markdown",
   "metadata": {},
   "source": [
    "#### *a. Rank-Based Recommendation System:*\n",
    "Provide recommendations based on the most popular items. This kind of recommendation system is useful when we have cold start problems. Cold start refers to the issue when we get a new user into the system and the machine is not able to recommend movies to the new user, as the user did not have any historical interactions in the dataset. In those cases, we can use rank-based ecommendation system to recommend movies to the new user.\n"
   ]
  },
  {
   "cell_type": "code",
   "execution_count": 10,
   "metadata": {},
   "outputs": [
    {
     "name": "stdout",
     "output_type": "stream",
     "text": [
      "         avg_rating  rating_count\n",
      "movieId                          \n",
      "1          3.872470           247\n",
      "2          3.401869           107\n",
      "3          3.161017            59\n",
      "4          2.384615            13\n",
      "5          3.267857            56\n",
      "...             ...           ...\n",
      "161944     5.000000             1\n",
      "162376     4.500000             1\n",
      "162542     5.000000             1\n",
      "162672     3.000000             1\n",
      "163949     5.000000             1\n",
      "\n",
      "[9066 rows x 2 columns]\n"
     ]
    }
   ],
   "source": [
    "# Rank-based recommendation systems \n",
    "# --------------------------------------\n",
    "# To build the rank-based recommendation system, we take the 'average' of all the ratings provided to each \n",
    "# movie and then rank them based on their average rating\n",
    "\n",
    "# calculating average ratings\n",
    "average_rating = df.groupby('movieId').mean()['rating']\n",
    "# calculating the count of ratings\n",
    "count_rating = df.groupby('movieId').count()['rating']\n",
    "# making a dataframe with the count and average of ratings\n",
    "final_rating = pd.DataFrame({'avg_rating':average_rating, 'rating_count':count_rating})\n",
    "print(final_rating)"
   ]
  },
  {
   "cell_type": "code",
   "execution_count": 11,
   "metadata": {},
   "outputs": [],
   "source": [
    "# Find the top n movies with 'x' number of interactions for a recommendation\n",
    "# --------------------------------------\n",
    "# Now, let's create a function to find the top n movies for a recommendation based on the average ratings of\n",
    "# movies. We can also add a threshold for a minimum number of interactions for a movie to be considered for \n",
    "# recommendation.\n",
    "\n",
    "def top_n_movies(data, n, min_interaction = 100):\n",
    "    \n",
    "    # finding movies with minimum number of interactions\n",
    "    recommendations = data[data['rating_count'] > min_interaction]\n",
    "    # sorting values w.r.t average rating \n",
    "    recommendations = recommendations.sort_values(by = 'avg_rating', ascending = False)\n",
    "    # return list of top n movies recomendations\n",
    "    return recommendations.index[:n]\n"
   ]
  },
  {
   "cell_type": "code",
   "execution_count": 12,
   "metadata": {},
   "outputs": [
    {
     "data": {
      "text/plain": [
       "[318, 50, 527, 608, 296, 2858, 1196, 260, 1198, 2571]"
      ]
     },
     "execution_count": 12,
     "metadata": {},
     "output_type": "execute_result"
    }
   ],
   "source": [
    "# testing - Rank-based recommendation systems \n",
    "# --------------------------------------\n",
    "\n",
    "top_n_movies(final_rating, 10, 200).to_list()"
   ]
  },
  {
   "cell_type": "markdown",
   "metadata": {},
   "source": [
    "#### *b. User based Collaborative Filtering Recommendation System (User Similarity)* \n",
    "\n",
    "Technique used to predict the items that a user might like on the basis of ratings given to that item by the other users who have similar taste. This allows for serendipitous recommendations; that is, collaborative filtering models can recommend an item to user A based on the interests of a similar user B. "
   ]
  },
  {
   "cell_type": "code",
   "execution_count": 13,
   "metadata": {},
   "outputs": [
    {
     "name": "stdout",
     "output_type": "stream",
     "text": [
      "Baseline Performance\n",
      "# --------------------------------------\n",
      "Baseline RMSE :  0.9925\n"
     ]
    }
   ],
   "source": [
    "# baseline - User Similarity recommendation system \n",
    "# --------------------------------------\n",
    "\n",
    "# defining algorithm using KNN and cosine similarity\n",
    "algo_knn_user = KNNBasic(sim_options = {'name': 'cosine', 'user_based':True}, verbose = False)\n",
    "# train the algorithm on the trainset or fitting the model on train dataset \n",
    "algo_knn_user.fit(trainset)\n",
    "# predict ratings for the testset\n",
    "predictions = algo_knn_user.test(testset)\n",
    "# computing RMSE\n",
    "x = accuracy.rmse(predictions, verbose = False)\n",
    "\n",
    "print('Baseline Performance')\n",
    "print('# --------------------------------------')\n",
    "print('Baseline RMSE : ',  round(x,4))"
   ]
  },
  {
   "cell_type": "code",
   "execution_count": 14,
   "metadata": {},
   "outputs": [
    {
     "name": "stdout",
     "output_type": "stream",
     "text": [
      "Baseline Results\n",
      "# --------------------------------------\n",
      "Baseline prediction : estimate = 3.62  | true_rate = 4\n"
     ]
    }
   ],
   "source": [
    "# testing baseline - User Similarity recommendation system \n",
    "# --------------------------------------\n",
    "\n",
    "# Predicting rating for userId = 4, movieId = 10. True rating value is 4 \n",
    "x =  algo_knn_user.predict(4, 10, r_ui = 4, verbose = False)\n",
    "\n",
    "print('Baseline Results')\n",
    "print('# --------------------------------------')\n",
    "print('Baseline prediction : estimate =',  round(x[3],2), ' | true_rate =', x[2])"
   ]
  },
  {
   "cell_type": "code",
   "execution_count": 15,
   "metadata": {},
   "outputs": [
    {
     "name": "stdout",
     "output_type": "stream",
     "text": [
      "Optimized Results\n",
      "# --------------------------------------\n",
      "Best RMSE :  0.9644\n",
      "Best ombination of parameters :  {'k': 20, 'min_k': 3, 'sim_options': {'name': 'msd', 'user_based': True}}\n"
     ]
    }
   ],
   "source": [
    "# optimizing - User Similarity recommendation system \n",
    "# --------------------------------------\n",
    "\n",
    "# setting up parameter grid to tune the hyperparameters\n",
    "param_grid = {'k': [20, 30, 40], 'min_k': [3, 6, 9],\n",
    "              'sim_options': {'name': ['msd', 'cosine'],\n",
    "                              'user_based': [True]}\n",
    "              }\n",
    "\n",
    "# performing 3-fold cross validation to tune the hyperparameters\n",
    "grid_obj = GridSearchCV(KNNBasic, param_grid, measures = ['rmse', 'mae'], cv = 3, n_jobs = -1)\n",
    "# fitting the data\n",
    "grid_obj.fit(data)\n",
    "\n",
    "print('Optimized Results')\n",
    "print('# --------------------------------------')\n",
    "print('Best RMSE : ', round(grid_obj.best_score['rmse'],4))\n",
    "print('Best ombination of parameters : ', grid_obj.best_params['rmse'])\n"
   ]
  },
  {
   "cell_type": "code",
   "execution_count": 16,
   "metadata": {},
   "outputs": [
    {
     "name": "stdout",
     "output_type": "stream",
     "text": [
      "Optimized Performance\n",
      "# --------------------------------------\n",
      "Optimized RMSE :  0.9571\n"
     ]
    }
   ],
   "source": [
    "# optimized - User Similarity recommendation system  \n",
    "# --------------------------------------\n",
    "\n",
    "# defining algorithm using KNN and cosine similarity with optimal hyperparameter values\n",
    "algo_knn_user_optimized = KNNBasic( k = 20, min_k = 3, verbose = False,\n",
    "                                        sim_options = {'name': 'msd', 'user_based': True})\n",
    "# training the algorithm on the trainset\n",
    "algo_knn_user_optimized.fit(trainset)\n",
    "# predicting ratings for the testset\n",
    "predictions = algo_knn_user_optimized.test(testset)\n",
    "# computing RMSE on testset\n",
    "x = accuracy.rmse(predictions, verbose = False)\n",
    "\n",
    "print('Optimized Performance')\n",
    "print('# --------------------------------------')\n",
    "print('Optimized RMSE : ',  round(x,4))\n"
   ]
  },
  {
   "cell_type": "code",
   "execution_count": 17,
   "metadata": {},
   "outputs": [
    {
     "name": "stdout",
     "output_type": "stream",
     "text": [
      "Optimized Results\n",
      "# --------------------------------------\n",
      "prediction : estimate_rating = 3.74  | true_rating = 4\n"
     ]
    }
   ],
   "source": [
    "# testing optimized - User Similarity recommendation system  \n",
    "# --------------------------------------\n",
    "# Predicting rating for userId = 4, movieId = 10. True rating value is 4 \n",
    "\n",
    "x =  algo_knn_user_optimized.predict(4, 10, r_ui = 4, verbose = False)\n",
    "\n",
    "print('Optimized Results')\n",
    "print('# --------------------------------------')\n",
    "print('prediction : estimate_rating =',  round(x[3],2), ' | true_rating =', x[2])"
   ]
  },
  {
   "cell_type": "markdown",
   "metadata": {},
   "source": [
    "**Observation:**\n",
    "\n",
    "* Best RMSE (after hypertuning parameters) for **User Similarity** is 0.9548.\n",
    "* For tested user/movie, perdicton improved from 3.54 to 3.63 for true rate = 4) \n"
   ]
  },
  {
   "cell_type": "markdown",
   "metadata": {},
   "source": [
    "#### *c. Item based Collaborative Filtering Recommendation System (Item Similarity)*\n",
    "\n",
    "Looks for similar items based on the items users have already liked or positively interacted with."
   ]
  },
  {
   "cell_type": "code",
   "execution_count": 18,
   "metadata": {},
   "outputs": [
    {
     "name": "stdout",
     "output_type": "stream",
     "text": [
      "Baseline Performance\n",
      "# --------------------------------------\n",
      "Baseline RMSE :  1.0032\n"
     ]
    }
   ],
   "source": [
    "# baseline - Item Similarity recommendation system \n",
    "# --------------------------------------\n",
    "\n",
    "# definfing item similarity measure\n",
    "sim_options = {'name': 'cosine', 'user_based': False}\n",
    "# defining Nearest neighbour algorithm\n",
    "algo_knn_item = KNNBasic(sim_options = sim_options, verbose = False)\n",
    "# train the algorithm on the trainset or fitting the model on train dataset \n",
    "algo_knn_item.fit(trainset)\n",
    "# predict ratings for the testset\n",
    "predictions = algo_knn_item.test(testset)\n",
    "# computing RMSE\n",
    "x = accuracy.rmse(predictions, verbose = False)\n",
    "\n",
    "print('Baseline Performance')\n",
    "print('# --------------------------------------')\n",
    "print('Baseline RMSE : ',  round(x, 4))"
   ]
  },
  {
   "cell_type": "code",
   "execution_count": 19,
   "metadata": {},
   "outputs": [
    {
     "name": "stdout",
     "output_type": "stream",
     "text": [
      "Baseline Results\n",
      "# --------------------------------------\n",
      "prediction : estimate_rating = 4.37  | true_rating = 4\n"
     ]
    }
   ],
   "source": [
    "# testing - Item Similarity recommendation system \n",
    "# --------------------------------------\n",
    "\n",
    "# Predicting rating for userId = 4, movieId = 10. True rating value is 4 \n",
    "x = algo_knn_item.predict(4, 10, r_ui = 4, verbose = False)\n",
    "\n",
    "print('Baseline Results')\n",
    "print('# --------------------------------------')\n",
    "print('prediction : estimate_rating =',  round(x[3], 2), ' | true_rating =', x[2])"
   ]
  },
  {
   "cell_type": "code",
   "execution_count": 20,
   "metadata": {},
   "outputs": [
    {
     "name": "stdout",
     "output_type": "stream",
     "text": [
      "Optimized Results\n",
      "# --------------------------------------\n",
      "Best RMSE :  0.9445\n",
      "Best ombination of parameters :  {'k': 30, 'k_min': 3, 'sim_options': {'name': 'msd', 'user_based': False}}\n"
     ]
    }
   ],
   "source": [
    "# optimizing - Item Similarity recommendation system \n",
    "# --------------------------------------\n",
    "\n",
    "# setting up parameter grid to tune the hyperparameters\n",
    "param_grid = {'k':[20, 30], 'k_min':[3], \n",
    "              'sim_options':{'name':['msd','cosine'],\n",
    "                             'user_based':[False]}\n",
    "             }\n",
    "# performing 3-fold cross validation to tune the hyperparameters\n",
    "grid_obj = GridSearchCV(KNNBasic, param_grid, measures = ['rmse', 'mae'], cv = 3, n_jobs = -1)\n",
    "# fitting the data\n",
    "grid_obj.fit(data)\n",
    "# best RMSE score\n",
    "\n",
    "print('Optimized Results')\n",
    "print('# --------------------------------------')\n",
    "print('Best RMSE : ', round(grid_obj.best_score['rmse'],4))\n",
    "print('Best ombination of parameters : ', grid_obj.best_params['rmse'])"
   ]
  },
  {
   "cell_type": "code",
   "execution_count": 21,
   "metadata": {},
   "outputs": [
    {
     "name": "stdout",
     "output_type": "stream",
     "text": [
      "Optimized Performance\n",
      "# --------------------------------------\n",
      "Optimized RMSE :  1.011\n"
     ]
    }
   ],
   "source": [
    "# optimized - Item Similarity recommendation system  \n",
    "# --------------------------------------\n",
    "\n",
    "# creating an instance of KNNBasic with optimal hyperparameter values\n",
    "algo_knn_item_optimized = KNNBasic(sim_options = {'name':'cosine','user_based': False}, k = 30, \n",
    "                                            min_k = 3, verbose = False)\n",
    "# training the algorithm on the trainset\n",
    "algo_knn_item_optimized.fit(trainset)\n",
    "# predicting ratings for the testset\n",
    "predictions = algo_knn_item_optimized.test(testset)\n",
    "# computing RMSE on testset\n",
    "x = accuracy.rmse(predictions, verbose = False)\n",
    "\n",
    "print('Optimized Performance')\n",
    "print('# --------------------------------------')\n",
    "print('Optimized RMSE : ',  round(x,4))"
   ]
  },
  {
   "cell_type": "code",
   "execution_count": 22,
   "metadata": {},
   "outputs": [
    {
     "name": "stdout",
     "output_type": "stream",
     "text": [
      "Optimized Results\n",
      "# --------------------------------------\n",
      "prediction : estimate_rating = 4.27  | true_rating = 4\n"
     ]
    }
   ],
   "source": [
    "# testing - hypertuned params item similarity based recommendation system\n",
    "# --------------------------------------\n",
    "\n",
    "# rating for userId = 4 and movieId = 10 with the optimized model\n",
    "x = algo_knn_item_optimized.predict(4, 10, r_ui = 4, verbose = False)\n",
    "\n",
    "print('Optimized Results')\n",
    "print('# --------------------------------------')\n",
    "print('prediction : estimate_rating =',  round(x[3],2), ' | true_rating =', x[2])"
   ]
  },
  {
   "cell_type": "markdown",
   "metadata": {},
   "source": [
    "#### *d. Collaborative Filtering - Matrix Factorization using SVD*\n",
    "\n",
    "* Model-based Collaborative Filtering is a personalized recommendation system, the recommendations are \n",
    "based on the past behavior of the user and it is not dependent on any additional information. We use \n",
    "latent features to find recommendations for each user.\n",
    "\n",
    "* Latent Features: The features that are not present in the empirical data but can be inferred from the data"
   ]
  },
  {
   "cell_type": "code",
   "execution_count": 23,
   "metadata": {},
   "outputs": [
    {
     "name": "stdout",
     "output_type": "stream",
     "text": [
      "Baseline Performance\n",
      "# --------------------------------------\n",
      "Baseline RMSE :  0.9053\n"
     ]
    }
   ],
   "source": [
    "# baseline - matrix factorization svd\n",
    "# --------------------------------------\n",
    "\n",
    "# using SVD matrix factorization\n",
    "algo_svd = SVD()\n",
    "# training the algorithm on the trainset\n",
    "algo_svd.fit(trainset)\n",
    "# predicting ratings for the testset\n",
    "predictions = algo_svd.test(testset)\n",
    "# computing RMSE on the testset\n",
    "x = accuracy.rmse(predictions , verbose=False)\n",
    "\n",
    "print('Baseline Performance')\n",
    "print('# --------------------------------------')\n",
    "print('Baseline RMSE : ',  round(x, 4))\n"
   ]
  },
  {
   "cell_type": "code",
   "execution_count": 24,
   "metadata": {},
   "outputs": [
    {
     "name": "stdout",
     "output_type": "stream",
     "text": [
      "Baseline Results\n",
      "# --------------------------------------\n",
      "Baseline prediction : estimate = 3.89  | true_rate = 4\n"
     ]
    }
   ],
   "source": [
    "# testing - baseline matrix factorization svd\n",
    "# --------------------------------------\n",
    "\n",
    "# Predicted rating for an user with userId = 4 and for movieId = 10\n",
    "x = algo_svd.predict(4, 10, r_ui = 4, verbose = False)\n",
    "\n",
    "print('Baseline Results')\n",
    "print('# --------------------------------------')\n",
    "print('Baseline prediction : estimate =',  round(x[3], 2), ' | true_rate =', x[2])"
   ]
  },
  {
   "cell_type": "code",
   "execution_count": 25,
   "metadata": {},
   "outputs": [
    {
     "name": "stdout",
     "output_type": "stream",
     "text": [
      "Optimized Results\n",
      "# --------------------------------------\n",
      "Best RMSE :  0.9445\n",
      "Best ombination of parameters :  {'k': 30, 'k_min': 3, 'sim_options': {'name': 'msd', 'user_based': False}}\n"
     ]
    }
   ],
   "source": [
    "# optimizing - matrix factorization svd\n",
    "# --------------------------------------\n",
    "\n",
    "# set the parameter space to tune\n",
    "param_grid = {'n_epochs': [10, 20, 30], 'lr_all': [0.001, 0.005, 0.01],\n",
    "              'reg_all': [0.2, 0.4, 0.6]}\n",
    "# performing 3-fold gridsearch cross validation\n",
    "gs = GridSearchCV(SVD, param_grid, measures = ['rmse', 'mae'], cv = 3, n_jobs = -1)\n",
    "# fitting data\n",
    "gs.fit(data)\n",
    "\n",
    "print('Optimized Results')\n",
    "print('# --------------------------------------')\n",
    "print('Best RMSE : ', round(grid_obj.best_score['rmse'], 4))\n",
    "print('Best ombination of parameters : ', grid_obj.best_params['rmse'])"
   ]
  },
  {
   "cell_type": "code",
   "execution_count": 26,
   "metadata": {},
   "outputs": [
    {
     "name": "stdout",
     "output_type": "stream",
     "text": [
      "Optimized Performance\n",
      "# --------------------------------------\n",
      "Optimized RMSE :  0.8952\n"
     ]
    }
   ],
   "source": [
    "# optimized - matrix factorization svd \n",
    "# --------------------------------------\n",
    "\n",
    "# building the optimized SVD model using optimal hyperparameter search\n",
    "algo_svd_optimized = SVD(n_epochs=30, lr_all=0.01, reg_all=0.2)\n",
    "# training the algorithm on the trainset\n",
    "algo_svd_optimized.fit(trainset)\n",
    "# predicting ratings for the testset\n",
    "predictions = algo_svd_optimized.test(testset)\n",
    "# computing RMSE\n",
    "x = accuracy.rmse(predictions, verbose = False)\n",
    "\n",
    "print('Optimized Performance')\n",
    "print('# --------------------------------------')\n",
    "print('Optimized RMSE : ',  round(x, 4))"
   ]
  },
  {
   "cell_type": "code",
   "execution_count": 27,
   "metadata": {},
   "outputs": [
    {
     "name": "stdout",
     "output_type": "stream",
     "text": [
      "Optimized Results\n",
      "# --------------------------------------\n",
      "prediction : estimate_rating = 3.98  | true_rating = 4\n"
     ]
    }
   ],
   "source": [
    "# testing - optimized baseline matrix factorization svd\n",
    "# --------------------------------------\n",
    "\n",
    "# Predicted rating for an user with userId = 4 and for movieId = 10\n",
    "x = algo_svd_optimized.predict(4, 10, r_ui = 4, verbose = False)\n",
    "\n",
    "print('Optimized Results')\n",
    "print('# --------------------------------------')\n",
    "print('prediction : estimate_rating =',  round(x[3], 2), ' | true_rating =', x[2])"
   ]
  },
  {
   "cell_type": "markdown",
   "metadata": {},
   "source": [
    "### 6. Results"
   ]
  },
  {
   "cell_type": "markdown",
   "metadata": {},
   "source": [
    "**svd_algo_optimized** may be considered as the best performing model for this dataset.\t\n",
    "\n",
    "It's performing metrics are:\n",
    "\n",
    "1. RMSE: 0.899653\n",
    "2. Precision = 0.732 & Recall = 0.526 at K = 10 (Top 10 recommendations)\n",
    "\n",
    "**Rank-Based Recommendation System** is a good model for all new users who haven’t had interactions with the system yet. And it can coexist with the **svd_algo_optimized** in production environment\n",
    "\n",
    "Find below all details about its performance and some more testing and evaluation"
   ]
  },
  {
   "cell_type": "markdown",
   "metadata": {},
   "source": [
    "#### *a. Selecting the best performing  model base on RMSE results*"
   ]
  },
  {
   "cell_type": "code",
   "execution_count": 28,
   "metadata": {},
   "outputs": [
    {
     "data": {
      "text/html": [
       "<div>\n",
       "<style scoped>\n",
       "    .dataframe tbody tr th:only-of-type {\n",
       "        vertical-align: middle;\n",
       "    }\n",
       "\n",
       "    .dataframe tbody tr th {\n",
       "        vertical-align: top;\n",
       "    }\n",
       "\n",
       "    .dataframe thead th {\n",
       "        text-align: right;\n",
       "    }\n",
       "</style>\n",
       "<table border=\"1\" class=\"dataframe\">\n",
       "  <thead>\n",
       "    <tr style=\"text-align: right;\">\n",
       "      <th></th>\n",
       "      <th>RecomMendationSystem</th>\n",
       "      <th>RMSE</th>\n",
       "    </tr>\n",
       "  </thead>\n",
       "  <tbody>\n",
       "    <tr>\n",
       "      <th>5</th>\n",
       "      <td>svd_algo_optimized</td>\n",
       "      <td>0.895173</td>\n",
       "    </tr>\n",
       "    <tr>\n",
       "      <th>4</th>\n",
       "      <td>algo_svd</td>\n",
       "      <td>0.898313</td>\n",
       "    </tr>\n",
       "    <tr>\n",
       "      <th>1</th>\n",
       "      <td>algo_knn_user_optimized</td>\n",
       "      <td>0.957145</td>\n",
       "    </tr>\n",
       "    <tr>\n",
       "      <th>0</th>\n",
       "      <td>algo_knn_user</td>\n",
       "      <td>0.992451</td>\n",
       "    </tr>\n",
       "    <tr>\n",
       "      <th>2</th>\n",
       "      <td>algo_knn_item</td>\n",
       "      <td>1.003221</td>\n",
       "    </tr>\n",
       "    <tr>\n",
       "      <th>3</th>\n",
       "      <td>algo_knn_item_optimized</td>\n",
       "      <td>1.011045</td>\n",
       "    </tr>\n",
       "  </tbody>\n",
       "</table>\n",
       "</div>"
      ],
      "text/plain": [
       "      RecomMendationSystem      RMSE\n",
       "5       svd_algo_optimized  0.895173\n",
       "4                 algo_svd  0.898313\n",
       "1  algo_knn_user_optimized  0.957145\n",
       "0            algo_knn_user  0.992451\n",
       "2            algo_knn_item  1.003221\n",
       "3  algo_knn_item_optimized  1.011045"
      ]
     },
     "execution_count": 28,
     "metadata": {},
     "output_type": "execute_result"
    }
   ],
   "source": [
    "\n",
    "models = [algo_knn_user, algo_knn_user_optimized, algo_knn_item, algo_knn_item_optimized, algo_svd, \n",
    "            algo_svd_optimized]\n",
    "\n",
    "scores = []\n",
    "\n",
    "for model in models:\n",
    "    model.fit(trainset)\n",
    "    predictions = model.test(testset)\n",
    "    score = accuracy.rmse(predictions , verbose = False)\n",
    "    scores.append(score)\n",
    "\n",
    "\n",
    "modelsNames = ['algo_knn_user', 'algo_knn_user_optimized', 'algo_knn_item', 'algo_knn_item_optimized', \n",
    "                'algo_svd', 'svd_algo_optimized']\n",
    "\n",
    "dfScore = pd.DataFrame()\n",
    "dfScore['RecomMendationSystem'] = modelsNames\n",
    "dfScore['RMSE'] = scores\n",
    "dfScore = dfScore.sort_values(by='RMSE', ascending=True)\n",
    "\n",
    "dfScore\n",
    "\n",
    "# sns.barplot(y = 'RecomendationSystem', x = 'RMSE', data = dfScore)"
   ]
  },
  {
   "cell_type": "code",
   "execution_count": 29,
   "metadata": {},
   "outputs": [
    {
     "data": {
      "image/png": "[encoded data removed]",
      "text/plain": [
       "<Figure size 720x360 with 1 Axes>"
      ]
     },
     "metadata": {
      "needs_background": "light"
     },
     "output_type": "display_data"
    }
   ],
   "source": [
    "# RMSE Chart\n",
    "# --------------------------------------\n",
    "\n",
    "fig = plt.figure(figsize=(10,5))\n",
    "sns.barplot(y = 'RecomMendationSystem', x = 'RMSE', data = dfScore)\n",
    "plt.title('RMSE Test Results (lowest is better)', pad = 10)\n",
    "plt.show\n",
    "\n",
    "# --------------------------------------\n",
    "fig.savefig('./imgs/rmse_plt.jpg')"
   ]
  },
  {
   "cell_type": "markdown",
   "metadata": {},
   "source": [
    "**Comments:** \n",
    "\n",
    "svd_algo_optimized RMSE = 0.899653. This is the model with lowest error.\n",
    "\n",
    "root mean squered error (RMSE): is a measure of  error. In other words, it tells the different from the true rate. *Lower value means best fit / Data is closer to the prediction*"
   ]
  },
  {
   "cell_type": "markdown",
   "metadata": {},
   "source": [
    "#### *b. Precision & Recall at K*"
   ]
  },
  {
   "cell_type": "code",
   "execution_count": 30,
   "metadata": {},
   "outputs": [],
   "source": [
    "# Precision & Recall at K (number of recomendations)\n",
    "# --------------------------------------\n",
    "# Args:\n",
    "#   a. predictions: \n",
    "#   b. k: number of predictions to select \n",
    "#   c. threshold: minimum for ratings to be considered as relevant\n",
    "\n",
    "def precision_recall_at_k(predictions, k = 10, threshold = 3.5):\n",
    "    \"\"\"Return precision and recall at k metrics for each user\"\"\"\n",
    "\n",
    "    # First map the predictions to each user.\n",
    "    user_est_true = defaultdict(list)\n",
    "    \n",
    "    for uid, _, true_r, est, _ in predictions:\n",
    "        user_est_true[uid].append((est, true_r))\n",
    "\n",
    "    precisions = dict()\n",
    "    recalls = dict()\n",
    "\n",
    "    for uid, user_ratings in user_est_true.items():\n",
    "        \n",
    "        # Sort user ratings by estimated value\n",
    "        user_ratings.sort(key = lambda x: x[0], reverse = True)\n",
    "        # Number of relevant items\n",
    "        n_rel = sum((true_r >= threshold) for (_, true_r) in user_ratings)\n",
    "        # Number of recommended items in top k\n",
    "        n_rec_k = sum((est >= threshold) for (est, _) in user_ratings[:k])\n",
    "        # Number of relevant and recommended items in top k\n",
    "        n_rel_and_rec_k = sum(((true_r >= threshold) and (est >= threshold)) for (est, true_r) in user_ratings[:k])\n",
    "        # Precision@K: Proportion of recommended items that are relevant\n",
    "        # When n_rec_k is 0, Precision is undefined. We here set it to 0.\n",
    "        precisions[uid] = n_rel_and_rec_k / n_rec_k if n_rec_k != 0 else 0\n",
    "        # Recall@K: Proportion of relevant items that are recommended\n",
    "        # When n_rel is 0, Recall is undefined. We here set it to 0.\n",
    "        recalls[uid] = n_rel_and_rec_k / n_rel if n_rel != 0 else 0\n",
    "\n",
    "    return precisions, recalls"
   ]
  },
  {
   "cell_type": "code",
   "execution_count": 31,
   "metadata": {},
   "outputs": [
    {
     "name": "stdout",
     "output_type": "stream",
     "text": [
      "model: algo_knn_user\n",
      "# --------------------------------------\n",
      "top: 5  -- Precision:  0.773 -- Recall:  0.414\n",
      "top: 10  -- Precision:  0.747 -- Recall:  0.546\n",
      "\n",
      "model: algo_knn_user_optimized\n",
      "# --------------------------------------\n",
      "top: 5  -- Precision:  0.776 -- Recall:  0.424\n",
      "top: 10  -- Precision:  0.753 -- Recall:  0.559\n",
      "\n",
      "model: algo_knn_item\n",
      "# --------------------------------------\n",
      "top: 5  -- Precision:  0.603 -- Recall:  0.318\n",
      "top: 10  -- Precision:  0.599 -- Recall:  0.477\n",
      "\n",
      "model: algo_knn_item_optimized\n",
      "# --------------------------------------\n",
      "top: 5  -- Precision:  0.612 -- Recall:  0.33\n",
      "top: 10  -- Precision:  0.6 -- Recall:  0.48\n",
      "\n",
      "model: algo_svd\n",
      "# --------------------------------------\n",
      "top: 5  -- Precision:  0.755 -- Recall:  0.385\n",
      "top: 10  -- Precision:  0.738 -- Recall:  0.52\n",
      "\n",
      "model: svd_algo_optimized\n",
      "# --------------------------------------\n",
      "top: 5  -- Precision:  0.751 -- Recall:  0.387\n",
      "top: 10  -- Precision:  0.734 -- Recall:  0.524\n",
      "\n"
     ]
    }
   ],
   "source": [
    "# A basic cross-validation iterator.\n",
    "kf = KFold(n_splits = 5)\n",
    "# Make list of k values\n",
    "K = [5, 10]\n",
    "# Each model name str format\n",
    "modelsNames = ['algo_knn_user', 'algo_knn_user_optimized', 'algo_knn_item', 'algo_knn_item_optimized', \n",
    "                'algo_svd', 'svd_algo_optimized']\n",
    "\n",
    "# Incremental variable to loop of over modelsNames\n",
    "i = 0\n",
    "prec = dict()\n",
    "rec = dict()\n",
    "# Make list of models (objects)\n",
    "models = [algo_knn_user, algo_knn_user_optimized, algo_knn_item, algo_knn_item_optimized, algo_svd, \n",
    "            algo_svd_optimized]\n",
    "# Calculating average Precision and Recall for each model.\n",
    "for model in models:\n",
    "    print('model: ' + str(modelsNames[i]))\n",
    "    print('# --------------------------------------')\n",
    "    \n",
    "    i = i + 1\n",
    "    \n",
    "    for k in K:\n",
    "\n",
    "        p = []\n",
    "        r = []\n",
    "\n",
    "        for trainset, testset in kf.split(data):        \n",
    "            model.fit(trainset)\n",
    "            predictions = model.test(testset, verbose = False)\n",
    "            precisions, recalls = precision_recall_at_k(predictions, k = k, threshold = 3.5)\n",
    "\n",
    "            # Precision and recall can then be averaged over all users\n",
    "            p.append(sum(prec for prec in precisions.values()) / len(precisions))\n",
    "            r.append(sum(rec for rec in recalls.values()) / len(recalls))\n",
    "        \n",
    "        print('top: ' + str(k), ' -- Precision: ', round(sum(p) / len(p), 3), \n",
    "            '-- Recall: ', round(sum(r) / len(r), 3))\n",
    "\n",
    "        prec[k] = round(sum(p) / len(p), 3)\n",
    "    \n",
    "    print('')\n"
   ]
  },
  {
   "cell_type": "markdown",
   "metadata": {},
   "source": [
    "**Comments:**\n",
    "\n",
    "model: **svd_algo_optimized** shows good values at k = 10 (top 10 recomendations)\n",
    "\n",
    "top: 10  -- Precision:  0.732 -- Recall:  0.526\n",
    "\n",
    "* Precision@K: Proportion of recommended items that are relevant\n",
    "* Recall@K: Proportion of relevant items that are recommended"
   ]
  },
  {
   "cell_type": "markdown",
   "metadata": {},
   "source": [
    "#### *C. Implementing the recommendation algorithm for non interacted movies*"
   ]
  },
  {
   "cell_type": "code",
   "execution_count": 51,
   "metadata": {},
   "outputs": [],
   "source": [
    "# Implementing the recommendation algorithm\n",
    "# --------------------------------------\n",
    "\n",
    "# Below we will be implementing a function where the input parameters are:\n",
    "#   data: a rating dataset\n",
    "#   user_id: an user id against which we want the recommendations\n",
    "#   top_n: the number of movies we want to recommend\n",
    "#   algo: the algorithm we want to use to predict the ratings\n",
    "\n",
    "def get_recommendations(data, user_id, top_n, algo):\n",
    "    \n",
    "    # creating an empty list to store the recommended movie ids\n",
    "    recommendations = []    \n",
    "    # creating an user item interactions matrix \n",
    "    user_item_interactions_matrix = data.pivot(index = 'userId', columns = 'movieId', values = 'rating')\n",
    "    # extracting those movie ids which the user_id has not interacted yet\n",
    "    non_interacted_movies = user_item_interactions_matrix.loc[user_id][user_item_interactions_matrix.loc[user_id].isnull()].index.tolist()\n",
    "    #interacted_movies = user_item_interactions_matrix.loc[user_id][user_item_interactions_matrix.loc[user_id].notnull()].index.tolist()\n",
    "\n",
    "    # looping through each of the movie id which user_id has not interacted yet\n",
    "    for item_id in non_interacted_movies:\n",
    "        # predicting the ratings for those non interacted movie ids by this user\n",
    "        est = round(algo.predict(user_id, item_id).est, 2)\n",
    "        # appending the predicted ratings\n",
    "        recommendations.append((item_id, est))\n",
    "\n",
    "    # sorting the predicted ratings in descending order\n",
    "    recommendations.sort(key = lambda x: x[1], reverse = True)\n",
    "    # returing top n highest predicted rating movies for this user\n",
    "    return recommendations[:top_n]"
   ]
  },
  {
   "cell_type": "code",
   "execution_count": 53,
   "metadata": {},
   "outputs": [
    {
     "data": {
      "text/plain": [
       "[(1361, 5),\n",
       " (1939, 5),\n",
       " (3038, 5),\n",
       " (4903, 5),\n",
       " (73290, 5),\n",
       " (8132, 4.98),\n",
       " (3030, 4.97),\n",
       " (3181, 4.97),\n",
       " (7502, 4.97),\n",
       " (5114, 4.96)]"
      ]
     },
     "execution_count": 53,
     "metadata": {},
     "output_type": "execute_result"
    }
   ],
   "source": [
    "# Predict the top 10 movie recommendations for userId = 4\n",
    "# --------------------------------------\n",
    "\n",
    "recommendations = get_recommendations(df, 4, 10, algo_svd_optimized)\n",
    "recommendations"
   ]
  },
  {
   "cell_type": "markdown",
   "metadata": {},
   "source": [
    "#### *d. Predicting ratings for already interacted movies & Precision & Recall for a single user at K*"
   ]
  },
  {
   "cell_type": "code",
   "execution_count": 34,
   "metadata": {},
   "outputs": [],
   "source": [
    "# Predicting ratings for already interacted movies\n",
    "# --------------------------------------\n",
    "# Comparing the rating predictions of users for those movies which has been already watched by an user. This will help us to understand \n",
    "# how well are predictions compared to the actual ratings provided by users\n",
    "\n",
    "def predict_already_interacted_ratings(data, user_id, algo):\n",
    "    \n",
    "    # creating an empty list to store the recommended movie ids\n",
    "    recommendations = []\n",
    "    # creating an user item interactions matrix \n",
    "    user_item_interactions_matrix = data.pivot(index='userId', columns='movieId', values='rating')\n",
    "    # extracting those movie ids which the user_id has interacted already\n",
    "    interacted_movies = user_item_interactions_matrix.loc[user_id][user_item_interactions_matrix.loc[user_id].notnull()].index.tolist()\n",
    "    \n",
    "    # looping through each of the movie id which user_id has interacted already\n",
    "    for item_id in interacted_movies:\n",
    "        # extracting actual ratings\n",
    "        actual_rating = user_item_interactions_matrix.loc[user_id, item_id]\n",
    "        # predicting the ratings for those non interacted movie ids by this user\n",
    "        predicted_rating = algo.predict(user_id, item_id).est\n",
    "        # appending the predicted ratings\n",
    "        recommendations.append((user_id, item_id, actual_rating, predicted_rating))\n",
    "\n",
    "    # sorting the predicted ratings in descending order\n",
    "    recommendations.sort(key = lambda x: x[1], reverse=True)\n",
    "    # returning top n highest predictions\n",
    "    return pd.DataFrame(recommendations, columns=['userId', 'movieId', 'true_rating', 'estimated_rating']) "
   ]
  },
  {
   "cell_type": "code",
   "execution_count": 35,
   "metadata": {},
   "outputs": [],
   "source": [
    "# Precision & Recall for a single user at K (number of recomendations)\n",
    "# --------------------------------------\n",
    "\n",
    "def user_precision_recall(predictions, k = 10, threshold = 3.5):\n",
    "    \"\"\"Return precision and recall at k metrics for each user\"\"\"\n",
    "\n",
    "    # First map the predictions to each user.\n",
    "    # user_est_true = defaultdict(list)\n",
    "    est_true = []\n",
    "\n",
    "    for _, _, true_r, est in predictions:\n",
    "        est_true.append((est, true_r))\n",
    "\n",
    "    # Sort user ratings by estimated value\n",
    "    est_true.sort(key = lambda x: x[0], reverse = True)\n",
    "    # Number of relevant items\n",
    "    n_rel = sum((true_r >= threshold) for (_, true_r) in est_true)\n",
    "    # Number of recommended items in top k\n",
    "    n_rec_k = sum((est >= threshold) for (est, _) in est_true[:k])\n",
    "    # Number of relevant and recommended items in top k\n",
    "    n_rel_and_rec_k = sum(((true_r >= threshold) and (est >= threshold)) for (est, true_r) in est_true[:k])\n",
    "    # Precision@K: Proportion of recommended items that are relevant\n",
    "    # When n_rec_k is 0, Precision is undefined. We here set it to 0.\n",
    "    precision = n_rel_and_rec_k / n_rec_k if n_rec_k != 0 else 0\n",
    "    # Recall@K: Proportion of relevant items that are recommended\n",
    "    # When n_rel is 0, Recall is undefined. We here set it to 0.\n",
    "    recall = n_rel_and_rec_k / n_rel if n_rel != 0 else 0\n",
    "\n",
    "    return precision, recall"
   ]
  },
  {
   "cell_type": "markdown",
   "metadata": {},
   "source": [
    "##### *Single user Precision and Recall for top 10 predictions of already interacted movies*"
   ]
  },
  {
   "cell_type": "code",
   "execution_count": 36,
   "metadata": {},
   "outputs": [
    {
     "name": "stdout",
     "output_type": "stream",
     "text": [
      "Precision, Recall\n",
      "# --------------------------------------\n",
      "Precision: 1.00  \n",
      "Recall: 0.06  \n"
     ]
    }
   ],
   "source": [
    "predicted_ratings_for_interacted_movies = predict_already_interacted_ratings(df, 4, algo_svd_optimized)\n",
    "precision, recall = user_precision_recall(predicted_ratings_for_interacted_movies.to_numpy(), k = 10, threshold = 3.5)\n",
    "\n",
    "'''\n",
    "Relevant : Movies which true_ratings are equal or bigger than threshold\n",
    "Precision : Proportion of recommended items that are relevant\n",
    "Recall : Proportion of relevant items that are recommended\n",
    "'''\n",
    "\n",
    "print('Precision, Recall')\n",
    "print('# --------------------------------------')\n",
    "print('Precision: %0.2f  ' % (precision)) \n",
    "print('Recall: %0.2f  ' % (recall)) "
   ]
  },
  {
   "cell_type": "markdown",
   "metadata": {},
   "source": [
    "**Comments:**\n",
    "\n",
    "* Precision: 1.00 > All top K recommended movies are relevant too\n",
    "* Recall: 0.06 > Out of all relevant movies only top k where commended\n"
   ]
  },
  {
   "cell_type": "markdown",
   "metadata": {},
   "source": [
    "##### *Plot True_rating vs Estimated_rating Distribution for user already interacted movies*"
   ]
  },
  {
   "cell_type": "code",
   "execution_count": 42,
   "metadata": {},
   "outputs": [
    {
     "data": {
      "text/plain": [
       "<function matplotlib.pyplot.show(close=None, block=None)>"
      ]
     },
     "execution_count": 42,
     "metadata": {},
     "output_type": "execute_result"
    },
    {
     "data": {
      "image/png": "[encoded data removed]",
      "text/plain": [
       "<Figure size 481x360 with 1 Axes>"
      ]
     },
     "metadata": {
      "needs_background": "light"
     },
     "output_type": "display_data"
    }
   ],
   "source": [
    "# Plot True_rating vs Estimated_rating Distribution\n",
    "# --------------------------------------\n",
    "predicted_ratings_for_interacted_movies = predict_already_interacted_ratings(df, 4, algo_svd_optimized)\n",
    "dfPRIM = predicted_ratings_for_interacted_movies.melt(id_vars = 'movieId', value_vars = ['true_rating', 'estimated_rating'])\n",
    "\n",
    "sns.displot(data = dfPRIM, x = 'value', hue = 'variable', kde = True)\n",
    "plt.title('True vs Estimated Rating Distribution', pad = 10)\n",
    "plt.show\n"
   ]
  },
  {
   "cell_type": "markdown",
   "metadata": {},
   "source": [
    "#### *e. Return the top-N recommendation for each user from a set of predictions*"
   ]
  },
  {
   "cell_type": "code",
   "execution_count": 61,
   "metadata": {},
   "outputs": [],
   "source": [
    "# Return the top-N recommendation for each user from a set of predictions.\n",
    "# --------------------------------------\n",
    "# Arguments:\n",
    "#   a. predictions (list of Prediction objects): The list of predictions, as returned \n",
    "#      by the test method of an algorithm.\n",
    "#   b. n(int): The number of recommendations to output for each user. Default is 10.\n",
    "#\n",
    "# Returns: A dictionary where keys are user (raw) ids and values are lists of tuples:\n",
    "#          [(raw item id, rating estimation), ...] of size n.\n",
    "\n",
    "def get_top_n(predictions, n = 10):\n",
    "    \n",
    "    # First map the predictions to each user.\n",
    "    top_n = defaultdict(list)\n",
    "    for uid, iid, true_r, est, _ in predictions:\n",
    "        top_n[uid].append((iid, est))\n",
    "\n",
    "    # Then sort the predictions for each user and retrieve the k highest ones.\n",
    "    for uid, user_ratings in top_n.items():\n",
    "        user_ratings.sort(key = lambda x: x[1], reverse = False)\n",
    "        top_n[uid] = user_ratings[:n]\n",
    "\n",
    "    return top_n"
   ]
  },
  {
   "cell_type": "code",
   "execution_count": 60,
   "metadata": {},
   "outputs": [
    {
     "name": "stdout",
     "output_type": "stream",
     "text": [
      "1 [1371, 1405, 1061]\n",
      "2 [208, 585, 485, 317, 248, 185, 552, 550, 468, 500]\n",
      "3 [2841, 8636, 1884, 2716, 866, 1210, 296, 593, 527]\n",
      "4 [2986, 1388, 2699, 2002, 434, 1858, 367, 2034, 1030, 410]\n",
      "5 [586, 788, 4018, 8376, 277, 33679, 5266, 1380, 30793, 2081]\n",
      "6 [1687, 3751, 596, 1639, 3114, 2761, 2502, 1259, 2019]\n",
      "7 [786, 724, 610, 31, 1125, 1302, 34, 151, 345, 595]\n",
      "8 [5378, 1552, 45, 1302, 524, 2353, 2139, 8784, 6879, 4034]\n",
      "9 [2140, 2302]\n",
      "10 [1459, 2841, 1127, 2406, 152, 3019, 2890, 1036, 1423, 318]\n",
      "11 [2042, 58295, 80906, 97938, 1201]\n",
      "12 [3146, 3861, 3798, 736, 3794, 3176, 3879, 2355, 2529, 3801]\n",
      "13 [2355, 914, 4321, 6377, 64614, 2761, 81834, 2762, 3147, 47]\n",
      "14 [3986, 2724, 3623, 2861, 3751, 594]\n",
      "15 [3113, 1831, 5504, 3286, 2568, 1862, 5313, 7173, 4654, 3316]\n",
      "16 [4231, 4823, 2706, 4246, 4772, 1704]\n",
      "17 [5881, 172, 34048, 185, 3863, 8865, 3994, 3262, 8783, 5015]\n",
      "18 [79, 748, 14, 141, 733, 25, 36]\n",
      "19 [1381, 42, 1091, 344, 208, 407, 1373, 612, 231, 122]\n",
      "20 [153, 3555, 597, 1378, 2405, 31116, 2013, 8611, 26111, 1097]\n",
      "21 [44, 1327, 1350, 553, 1129, 1380, 543, 377, 34, 1012]\n",
      "22 [2701, 355, 267, 2710, 485, 3438, 2672, 4370, 3535, 48]\n",
      "23 [1562, 3248, 19, 185, 6537, 1917, 3535, 7004, 4823, 2424]\n",
      "24 [95, 786, 610, 736, 588, 590, 1161]\n",
      "25 [784, 1409, 653, 3, 78, 494, 780, 1354, 1356, 778]\n",
      "26 [3744, 1687, 367, 1753, 5218, 55765, 500, 377, 27376, 5954]\n",
      "27 [2710, 2391, 2762, 2502, 296, 50]\n",
      "28 [1831, 1883, 902, 345, 1094, 2028, 2324, 2202, 908, 898]\n",
      "29 [27822, 2384, 2459, 51662]\n",
      "30 [2505, 3826, 5247, 2950, 2136, 2088, 2259, 518, 2122, 2793]\n",
      "31 [3755, 1416, 1378, 33154, 4979, 8961, 5418, 3911, 3897, 1208]\n",
      "32 [173, 231, 252, 168, 350, 292, 165, 2, 377, 261]\n",
      "33 [1984, 4502, 2088, 19, 3785, 2888, 157, 3752, 2060, 2541]\n",
      "34 [2793, 2311, 288, 1597, 2407, 2528, 198, 1396, 3256, 2353]\n",
      "35 [1047, 468, 1029, 2968, 838, 1249]\n",
      "36 [432, 256, 469, 252, 1367, 372, 491, 640, 597, 368]\n",
      "37 [2085, 940, 920, 1193, 2858]\n",
      "38 [367, 2641, 4862, 59447, 86781, 98587, 60069, 6870, 6874, 109374]\n",
      "39 [160, 662, 338, 434, 22, 380, 648, 223, 162, 293]\n",
      "40 [48774, 112556, 122882, 99114, 70286, 44191, 7361, 1197, 1198, 68237]\n",
      "41 [3593, 435, 2808, 172, 6316, 196, 1037, 8499, 2600, 2521]\n",
      "42 [780, 2985, 2916, 79132, 73017, 63082, 1291, 44191, 134853, 69844]\n",
      "43 [2004, 2770, 70, 1457, 2723, 3301, 2384, 3450, 3624, 39]\n",
      "44 [1047, 104, 733]\n",
      "45 [520, 3160, 3307, 2692, 4235]\n",
      "46 [8387, 1359, 33794, 79132, 81834, 1270]\n",
      "47 [344, 153, 442, 410, 236, 316, 266, 595, 300, 110]\n",
      "48 [1499, 1591, 44397, 85510, 71379, 1544, 109673, 2840, 103249, 48043]\n",
      "49 [2088, 173, 2748, 3269, 2054, 2815, 3441, 1391, 653, 1017]\n",
      "50 [434, 253, 339, 39, 440, 377, 21, 47, 527]\n",
      "51 [2827, 2724, 1888, 2841, 3510, 1959, 2396]\n",
      "52 [37727, 3987, 27020, 8983, 31408, 4896, 38886, 1639, 6776]\n",
      "53 [2986, 420, 1995, 2433, 2470, 3274, 2093, 3160, 1193]\n",
      "54 [3906, 48660, 91355, 1680, 54286, 78499, 3462]\n",
      "55 [609, 376, 100, 648]\n",
      "56 [3268, 160, 136864, 250, 673, 95441, 6373, 74916, 52245, 64969]\n",
      "57 [1346, 1979, 1981, 2110, 2161, 1350, 1135, 2143, 2000, 1923]\n",
      "58 [2505, 1007, 1690, 2311, 1367, 1459, 3251, 11, 3421, 3524]\n",
      "59 [2193, 292, 3253, 2716, 2028, 5060, 34153, 7361, 593, 7153]\n",
      "60 [3726, 7387, 2640, 6957, 3160, 8981, 1732, 2324, 27803, 4973]\n",
      "61 [673, 1010, 2123, 4890, 4232, 5693, 5459, 45720, 53121, 56174]\n",
      "62 [103228, 104841, 115149, 8665, 1270, 111759, 134130, 134853, 115569, 58559]\n",
      "63 [1474, 432, 2710, 2699, 2116, 3869, 1517, 2393, 4846, 832]\n",
      "64 [434, 168, 266, 150]\n",
      "65 [909, 2863, 1956, 1210, 1304]\n",
      "66 [2456, 1573, 832, 1580, 1179, 1036, 593, 1198]\n",
      "67 [743, 849, 637, 609, 788, 852, 238, 553, 368, 531]\n",
      "68 [317, 6373, 31685, 597, 3148, 2420, 33004, 2, 1376, 454]\n",
      "69 [344, 3821, 587, 1721, 34, 2302, 4896, 357, 5816, 919]\n",
      "70 [810, 762, 63, 637, 694, 88, 707, 5, 640, 748]\n",
      "71 [3920, 3930, 3966, 3098, 3481, 908]\n",
      "72 [68319, 4025, 4018, 6934, 31696, 53996, 55765, 51662, 72998, 64957]\n",
      "73 [62394, 374, 5666, 4255, 1499, 160, 1707, 4638, 5313, 7161]\n",
      "74 [1917, 2541, 2628, 2490, 2572, 2762, 1210, 1704, 2571, 1136]\n",
      "75 [8985, 44397, 2710, 39446, 520, 3087, 2841, 3948, 8581, 3408]\n",
      "76 [303, 2087, 3911, 49530]\n",
      "77 [4270, 2710, 1779, 2600, 586, 26700, 2275, 2541, 2001, 6934]\n",
      "78 [6888, 6058, 1644, 3986, 5784, 1717, 185, 8361, 3753, 7458]\n",
      "79 [1101, 2683, 592, 2640, 3478, 468, 588, 2150, 1097, 49530]\n",
      "80 [105, 780, 2, 10, 45, 156, 6, 671, 73, 608]\n",
      "81 [36276, 8533, 6993, 7820, 68137, 7574, 69516, 26578, 81054, 71438]\n",
      "82 [208, 367, 165, 454, 10, 47]\n",
      "83 [4388, 1920, 6373, 799, 266, 3253, 39, 4174, 1799, 35836]\n",
      "84 [3717, 3623, 6365, 7293, 106487, 74795, 8644, 4023, 54272, 72998]\n",
      "85 [181, 405, 255, 415, 420, 177, 344, 186, 196, 275]\n",
      "86 [444, 208, 469, 282, 203, 316, 253, 324, 509, 828]\n",
      "87 [1405, 780, 733, 1357]\n",
      "88 [2054, 552, 3753, 736, 6873, 2628, 288, 66198, 51705, 2671]\n",
      "89 [344, 3638, 107, 648, 590, 480, 3114, 4963, 49272, 59315]\n",
      "90 [1515, 1367, 830, 1513, 986, 1183, 1584, 29, 778]\n",
      "91 [59014, 57532, 12, 4340, 216, 23, 132157, 104218, 44972, 4084]\n",
      "92 [44, 317, 188, 597, 316, 780, 454, 362, 543, 224]\n",
      "93 [587, 27790, 266, 4246, 1380, 648, 1923, 34, 3408, 590]\n",
      "94 [208, 2710, 442, 1676, 6365, 104, 3948, 64622, 5349, 5991]\n",
      "95 [1389, 519, 3146, 1644, 2188, 1970, 1969, 2149, 2428, 3269]\n",
      "96 [1747, 8765, 48394, 910, 1242, 6273, 1084, 608, 912, 750]\n",
      "97 [33004, 4816, 2000, 3552, 91529, 44555, 8641, 3868, 1200, 2502]\n",
      "98 [6593, 2724, 5620, 2617, 2193, 7154, 156025, 902, 55280, 357]\n",
      "99 [546, 160, 105, 2094, 1909, 3298, 380, 1014, 4380, 3408]\n",
      "100 [135, 786]\n",
      "101 [2699, 26701, 68358, 2268, 79132, 589, 1210, 5952]\n",
      "102 [2548, 2616, 3264, 3218, 1648, 2135, 2717, 1377, 434, 303]\n",
      "103 [2549, 1599, 1037, 1690, 3697, 736, 1805, 592, 6790, 1215]\n",
      "104 [112171, 48043, 6754, 57640, 8636, 91529, 33794, 84844, 74458, 64614]\n",
      "105 [427, 420, 5900, 3682, 5309, 1801, 2126, 7104, 2822, 2002]\n",
      "106 [4040, 39416, 3210, 1246, 59306, 6377, 56367]\n",
      "107 [2701, 4816, 3160, 6016]\n",
      "108 [208, 153, 185, 454, 595, 589, 47]\n",
      "109 [1101, 296, 318]\n",
      "110 [160, 276, 315, 485, 367, 207, 539, 257, 648, 588]\n",
      "111 [2953, 327, 1648, 4231, 3968, 3257, 4052, 1541, 3254, 3825]\n",
      "112 [648, 1183, 805, 6]\n",
      "113 [20, 762, 24, 5, 140, 494, 647, 16]\n",
      "114 [364]\n",
      "115 [231, 3, 2683, 543, 1639, 1073, 1270, 1197, 318]\n",
      "116 [480, 356, 4993, 2858]\n",
      "117 [3565, 3107, 56587, 82527, 8949, 43396, 64614, 1957, 47099, 73023]\n",
      "118 [2450, 2722, 3810, 2533, 3615, 2346, 1917, 3806, 1371, 2094]\n",
      "119 [1713, 870, 2338, 1591, 173, 3388, 208, 1503, 153, 1037]\n",
      "120 [1388, 231, 6373, 2407, 2371, 292, 2013, 380, 4002, 2915]\n",
      "121 [303, 95, 610, 249, 539, 112, 780, 454, 34, 215]\n",
      "122 [153, 434, 342, 468, 590, 1, 265, 529, 356, 296]\n",
      "123 [4492, 407, 785, 2841, 4493, 2707, 2762]\n",
      "124 [19, 2000, 8957, 3793, 34405, 6874, 6539, 1625, 8798, 5952]\n",
      "125 [231, 5502, 597, 6953, 30793, 48774, 52973, 8360, 648, 440]\n",
      "126 [160, 208, 344, 466, 329, 316, 207, 368, 377, 588]\n",
      "127 [586]\n",
      "128 [1499, 2548, 2088, 3824, 4639, 3400, 276, 5296, 1487, 5957]\n",
      "129 [3717, 3615, 3744, 3752, 736, 3691, 3745, 1245]\n",
      "130 [2950, 173, 2421, 153, 3441, 216, 4643, 2411, 3173, 48]\n",
      "131 [3988, 4018, 4034, 2028, 2396, 2997, 593]\n",
      "132 [4312, 55555, 4964, 41527, 6867, 5577, 590, 60069, 44555, 3456]\n",
      "133 [7042, 60950, 86880, 85612, 102993, 71899, 1784, 30810, 1265, 1028]\n",
      "134 [7104, 2710, 7444, 552, 2100, 2628, 2617, 2012, 329, 3052]\n",
      "135 [135, 10, 121, 1103]\n",
      "136 [2135, 2014, 2628, 3461, 3793, 2926, 1265, 5952, 58559, 1196]\n",
      "137 [1848, 367, 2628, 1375, 1009, 2528, 2011, 590, 2080, 2043]\n",
      "138 [134170, 90866, 480, 6539, 55247, 1270, 59315, 3578, 58559, 260]\n",
      "139 [1461, 5502, 3994, 785, 3538, 3098, 1580, 5054, 1240, 2395]\n",
      "140 [216, 2059, 1513, 5349, 97895, 104841, 6942, 5816, 81845, 72641]\n",
      "141 [4310, 3623, 3256, 480, 4033]\n",
      "142 [4744, 2262, 2522, 3250, 4673, 4784, 4803, 4830, 150, 3471]\n",
      "143 [432, 225, 5445, 7438, 4262, 6711, 7147, 4848, 8873, 1084]\n",
      "144 [432, 315, 434, 225, 329, 165, 253, 500, 364, 589]\n",
      "145 [208, 185, 597, 292, 165, 316, 500, 595, 296]\n",
      "146 [380, 51662, 1302, 8360, 71102, 588, 480, 33794, 4886, 6711]\n",
      "147 [2565, 7323, 934, 4306, 3396, 58559, 778, 2542, 111]\n",
      "148 [585, 1779, 2628, 5945, 2174, 2184, 6195, 1022, 5013, 934]\n",
      "149 [3979, 231, 5481, 3409, 114180, 2161, 60950, 56949, 91500, 253]\n",
      "150 [2422, 5171, 3146, 327, 784, 344, 4344, 153, 1833, 8968]\n",
      "151 [344, 185, 329, 292, 39, 339, 349, 589]\n",
      "152 [3826, 231, 1590, 6934, 2431, 2706, 380, 377, 72998, 4896]\n",
      "153 [546, 1498, 1, 32, 2762, 1617, 2959, 307, 912, 306]\n",
      "154 [1391, 7, 708, 92, 671, 608]\n",
      "155 [1573, 2916, 2401, 1214, 2571, 260]\n",
      "156 [4776, 8910, 66665, 56367, 5103, 48516]\n",
      "157 [2382, 80350, 2710, 2025, 3441, 485, 34048, 83349, 5378, 367]\n",
      "158 [2533, 481, 1967, 60293, 1957, 58559]\n",
      "159 [799, 5015, 253, 76, 500, 3763, 377, 1965, 25, 1080]\n",
      "160 [3430, 2520, 3450, 2247, 1135, 1380, 2245, 1302, 490, 2762]\n",
      "161 [158, 367, 48, 277, 329, 592, 165, 266, 163, 368]\n",
      "162 [140, 494, 52, 608]\n",
      "163 [2541, 74688, 6059, 648, 106489, 2028, 150, 1994, 91077, 2571]\n",
      "164 [317, 4447, 3751, 43396, 1265, 110, 6331, 26974, 4973, 1704]\n",
      "165 [1681, 470, 3773, 393, 673, 338, 3257, 216, 3438, 4749]\n",
      "166 [6535, 163, 590, 4223, 5445, 1246, 1732]\n",
      "167 [2002, 2454, 480, 1270]\n",
      "168 [93, 255, 427, 489, 20, 426, 237, 597, 333, 493]\n",
      "169 [43936, 274, 8808, 8644, 48774, 3594, 63859, 48982, 60069, 33794]\n",
      "171 [2710, 2702, 2734, 1093, 2688, 1513, 1729, 2268, 1179, 555]\n",
      "172 [34, 364, 150, 457, 296, 527]\n",
      "173 [736, 999, 100, 1580, 32, 778]\n",
      "174 [6534, 552, 1380, 342, 2302, 3897]\n",
      "175 [5943, 5524, 5378, 4161, 48, 5349, 1022, 4016, 3668, 1580]\n",
      "176 [1381, 3997, 59615, 4310, 4367, 4447, 66203, 53894, 66198, 6754]\n",
      "177 [1769, 327, 66, 256, 1373, 196, 1515, 1779, 786, 1320]\n",
      "178 [3052, 8966, 67267, 2078, 54503, 1073, 93840, 1954, 2268, 4979]\n",
      "179 [3882, 64957, 55280, 6377, 56367, 80693]\n",
      "180 [2710, 24, 2700, 2013, 1127, 2474, 223]\n",
      "181 [3753, 3052, 1396, 733, 5445, 6874, 1089, 7153]\n",
      "182 [688, 313, 60, 208, 9, 351, 317, 7, 830, 736]\n",
      "183 [3646, 2360, 345, 1046, 4027, 1199, 2959, 527]\n",
      "184 [256, 434, 586, 288, 380, 440, 595, 223]\n",
      "185 [1037, 709, 4275, 24, 788, 2021, 48, 2012, 450, 2700]\n",
      "186 [2605, 3996, 27660, 3578, 7361, 4993]\n",
      "187 [2082, 2710, 8129, 5065, 3005, 317, 586, 367, 2759, 1917]\n",
      "188 [160, 93, 158, 231, 24, 586, 801, 1017, 350, 539]\n",
      "189 [2995, 2701, 2720, 1623, 737, 2722, 3841, 2724, 2533, 2861]\n",
      "190 [2734, 2622, 2629, 2630, 3114, 3160, 2908, 2762, 2580]\n",
      "191 [231, 185, 454, 10, 349, 161, 296, 318]\n",
      "192 [181, 160, 231, 185, 586, 48, 237, 597, 592, 587]\n",
      "193 [277, 2294, 3179, 1517, 1693, 3063, 1265, 1270, 1220, 2291]\n",
      "194 [420, 196, 204, 367, 225, 592, 253, 151, 364]\n",
      "195 [2549, 2986, 2616, 3999, 1583, 2135, 3744, 2877, 1391, 2411]\n",
      "196 [3623, 3537, 3572, 3649, 3387, 3594, 3552, 3115, 2712, 3510]\n",
      "197 [1702, 674, 2311, 2628, 2872, 3638, 1374, 2797, 1240, 589]\n",
      "198 [3811, 6296, 3267, 4772, 36, 4306, 1208, 1077, 4967, 5446]\n",
      "199 [48877, 82461, 55577, 88785, 74685, 74452, 4887, 2628, 7842, 8861]\n",
      "200 [33836, 5620, 2724, 4310, 3827, 3825, 60074, 6373, 97225, 597]\n",
      "201 [153, 592, 8644, 165, 8870, 8836, 416, 27882, 8636, 8949]\n",
      "202 [2794, 419, 3285, 1461, 2734, 2532, 2628, 5141, 2011, 5568]\n",
      "203 [23, 44761, 2116, 1049, 1748, 39292, 1617, 1221, 913]\n",
      "204 [4700, 4306, 1682, 2291, 1086, 923, 1247]\n",
      "205 [58293, 53464, 60037, 60074, 134170, 33679, 31685, 45720, 45517, 135887]\n",
      "206 [1376, 1302, 2005, 1097, 1270, 1994, 1197]\n",
      "207 [44, 1367, 779, 2085, 70121, 69, 2058, 431]\n",
      "208 [3484, 7348, 2114, 97921, 94959, 924]\n",
      "209 [466, 2406, 1234]\n",
      "210 [2462, 2459, 376, 539, 34, 2804, 1198]\n",
      "211 [1479, 627, 1391, 630, 1407, 1399, 832, 647, 94, 314]\n",
      "212 [2701, 1562, 33836, 2642, 6534, 2953, 435, 420, 5128, 455]\n",
      "213 [62394, 1831, 4876, 5943, 101112, 1848, 94478, 60, 94780, 65585]\n",
      "214 [3717, 3821, 3555, 3452, 804, 288, 292, 3624, 3176, 2174]\n",
      "215 [653, 509, 1073, 919, 1084, 1234, 1193, 953, 527, 1219]\n",
      "216 [2100, 8830, 783, 2006, 3751, 8636, 6942, 7438, 4034, 4886]\n",
      "217 [370, 1101, 2706, 1376, 2792, 6628, 8008, 2423, 2268, 4085]\n",
      "218 [442, 508, 1197, 1233]\n",
      "219 [3773, 3717, 231, 2581, 1805, 1513, 2431, 2875, 539, 1020]\n",
      "220 [5316, 2710, 1037, 3285, 4161, 282, 3994, 2617, 3869, 1805]\n",
      "221 [1917, 1485, 1380, 2797]\n",
      "222 [3688, 3566, 3714, 3740, 3732, 3538, 3549, 3707, 3684, 2201]\n",
      "223 [102, 731, 81, 802, 1183, 805, 41]\n",
      "224 [305, 344, 334, 736, 640, 249, 553, 34, 21, 247]\n",
      "225 [344, 153, 185, 410, 592, 661, 364, 110]\n",
      "226 [2340, 58103, 6059, 8972, 50804]\n",
      "227 [2328, 2387, 2334]\n",
      "228 [2683, 2478, 3869, 68358, 2987, 1036, 1220, 1682, 1210, 2571]\n",
      "229 [8533, 44204, 1035, 1287, 920, 953]\n",
      "230 [3535, 48560, 8533, 72998, 69122, 38886, 89864, 27878, 36529, 1682]\n",
      "231 [3948, 3546, 3911, 1240, 2183]\n",
      "232 [405, 1562, 2950, 2088, 502, 444, 2986, 420, 2421, 2253]\n",
      "233 [1427, 376, 648, 1183, 17, 58]\n",
      "234 [2628, 1009, 45928, 1517, 2174, 1580, 8464, 48394, 1097, 4886]\n",
      "235 [5419, 4975, 3623, 225, 5, 2605, 1569, 587, 2640, 802]\n",
      "236 [4768, 2294, 5009, 5613, 2178, 590, 1344, 7135, 2729, 8157]\n",
      "237 [153, 2657, 329, 316, 1777, 345, 1408, 1673, 608, 593]\n",
      "238 [231, 64969, 60950, 8529, 58998, 148956, 105246, 6155, 74154, 34162]\n",
      "239 [3646, 413, 1713, 3248, 2953, 432, 429, 2412, 673, 1456]\n",
      "240 [6593, 2710, 7155, 708, 7382, 165, 5299, 500, 1923, 648]\n",
      "241 [181, 410, 5, 253, 380, 780, 500, 377, 261, 247]\n",
      "242 [415, 1544, 1479, 95, 3394, 2757, 3301, 1721, 165, 1042]\n",
      "243 [93, 3997, 1623, 6157, 2004, 6615, 4270, 177, 4526, 7046]\n",
      "244 [7458, 8807, 4886, 2005, 54001, 1036, 589, 58559, 356, 7153]\n",
      "245 [2054, 4975, 3566, 3753, 1721, 1302, 1059, 2712, 4239, 3386]\n",
      "246 [673, 1917, 552, 3015]\n",
      "247 [2382, 1389, 1562, 405, 160, 2642, 2719, 2082, 435, 2794]\n",
      "248 [426, 2311, 2669, 780, 4473, 647, 151, 3706, 3702, 4111]\n",
      "249 [539, 500]\n",
      "250 [60037, 45081, 62999, 56174, 91500, 5218, 165, 34319, 1645, 1517]\n",
      "251 [122904, 97225, 86880, 94777, 106002, 5218, 72356, 68358, 81847, 4886]\n",
      "252 [79, 788, 736, 25]\n",
      "253 [172, 344, 3785, 1479, 442, 231, 303, 367, 1917, 552]\n",
      "254 [160, 489, 19, 330, 132, 23, 48, 227, 466, 421]\n",
      "255 [6252, 3999, 344, 3968, 4673, 33679, 8783, 714, 59725, 25805]\n",
      "256 [708, 6]\n",
      "257 [101962, 4855, 4886, 1263, 79132, 1222, 32587, 52885, 2959, 260]\n",
      "258 [3478, 3519, 3461, 3467, 3546, 1466, 3548]\n",
      "259 [2792, 2109, 1097, 1246, 2599, 1189, 3007]\n",
      "260 [2269, 5378, 367, 4224, 1620, 329, 33493, 589, 1210, 4995]\n",
      "261 [231, 592, 1517, 112, 380, 2174, 4016, 7143, 32, 318]\n",
      "262 [2995, 3991, 6383, 6503, 3826, 42723, 3484, 4270, 7318, 2710]\n",
      "263 [3717, 674, 586, 2803, 509, 2916, 3308, 33646, 3686, 7143]\n",
      "264 [2125, 920]\n",
      "265 [1648, 3125, 2583, 1633, 2847, 3072, 1997, 2349, 41, 3171]\n",
      "266 [434, 592, 587, 292, 500, 300, 50]\n",
      "267 [849, 5283, 3404, 48385, 1120, 4878, 1193]\n",
      "268 [193, 87430, 2054, 344, 8810, 3977, 87520, 85510, 7444, 367]\n",
      "269 [1422, 1690, 1667, 1721, 1057, 1683]\n",
      "270 [66509, 120466, 79695, 111360, 69526, 6537, 94864, 95510, 88405, 103228]\n",
      "271 [3623, 1101, 5464, 1374, 1036, 1270, 1090, 1220, 4306, 3578]\n",
      "272 [5504, 4367, 99112, 106489, 33794, 112852, 72641, 89745, 110102]\n",
      "273 [6934, 122904, 6365, 99149, 4886, 8961, 1270, 1240, 80463, 109374]\n",
      "274 [1676, 22, 866, 1242, 1682, 319]\n",
      "275 [5620, 60763, 1042, 333, 39, 4022, 500, 102125, 60128, 441]\n",
      "276 [2294, 785, 1747, 1215]\n",
      "277 [136598, 3948, 377, 122900, 148626, 1036, 134393, 589, 109487, 2571]\n",
      "278 [615, 1900, 909, 670, 2396, 2732, 3504, 80, 3362, 923]\n",
      "279 [173, 420, 196, 252, 225, 282, 597, 2, 380, 500]\n",
      "280 [1911, 1094, 17, 1408, 58, 1196, 1172]\n",
      "281 [344, 597, 1088, 7156, 589, 6777, 356, 1293, 1234, 2571]\n",
      "282 [3623, 4447, 4474, 2706, 553, 380, 3107, 648, 8360, 524]\n",
      "283 [586, 41571, 33004, 30825, 27783, 41527, 34198, 42004, 1729, 7254]\n",
      "284 [1359, 784, 694, 5, 1047, 1049, 62, 32]\n",
      "285 [2380, 1499, 413, 2379, 2404, 435, 762, 1591, 173, 2121]\n",
      "286 [1064, 2628, 1459, 2000, 4045, 588, 4007]\n",
      "287 [2549, 1882, 82461, 2525, 68319, 1010, 3157, 116823, 117895, 103249]\n",
      "288 [19, 276, 208, 315, 367, 350, 592, 39, 440, 555]\n",
      "289 [3507]\n",
      "290 [1831, 4367, 5872, 1371, 616, 1339, 45186, 5445, 5418, 80906]\n",
      "291 [315, 520, 6857, 5349, 2140, 1032, 1321, 1215, 1270, 1090]\n",
      "292 [6058, 784, 153, 442, 3623, 3882, 5308, 95, 3993, 466]\n",
      "293 [5220, 2116, 5218, 4557, 4210, 2174, 3701, 1270, 589, 1968]\n",
      "294 [546, 405, 1681, 33836, 8666, 6888, 193, 7255, 1453, 4388]\n",
      "295 [2950, 4015, 7318, 2445, 7458, 2628, 2161, 1101, 380, 8360]\n",
      "296 [4247, 3552]\n",
      "297 [2642, 355, 8275, 2826, 47640, 76077, 3503, 1747, 6188, 78209]\n",
      "298 [19, 98615, 158956, 4886, 122882, 1206, 1682, 109374, 3000, 2571]\n",
      "299 [3218, 849, 1377, 48043, 36401, 45880, 2021, 62434, 6873, 4294]\n",
      "300 [1391, 3623, 2628, 2617, 1370, 2006, 1748, 480, 150, 32]\n",
      "301 [1835, 107, 68848, 262]\n",
      "302 [225, 370, 466, 539, 596, 590]\n",
      "303 [4975, 520, 367, 1093, 282, 2407, 1101, 1092, 2470, 2706]\n",
      "304 [419, 344, 2747, 610, 6934, 8376, 2683, 3253, 1885, 2109]\n",
      "305 [434, 2943, 164, 480, 1267, 307, 318]\n",
      "306 [2642, 1984, 2950, 2456, 2088, 762, 2262, 2255, 420, 436]\n",
      "307 [48774, 3178, 33794, 44204, 48696, 55290, 30749, 49272, 8873, 1732]\n",
      "308 [1037, 410, 370, 466, 611, 253, 339, 1339, 39, 477]\n",
      "309 [31221, 1909, 3552, 6377, 1358, 6874, 8961, 3911, 1285, 1240]\n",
      "310 [256, 1371, 31, 2407, 2278, 969]\n",
      "311 [1359, 7255, 2720, 2147, 510, 6686, 1586, 762, 1055, 455]\n",
      "312 [3113, 1831, 1882, 818, 344, 585, 1876, 605, 2723, 1897]\n",
      "313 [6534, 6157, 2421, 344, 186, 1894, 5620, 3617, 4718, 4025]\n",
      "314 [127098, 112556, 1, 50872, 1291, 2571, 1198]\n",
      "315 [6157, 6188, 5788, 2947, 5377]\n",
      "316 [6157, 3717, 4367, 4310, 5872, 102903, 4816, 54272, 30793, 6218]\n",
      "317 [454, 480]\n",
      "318 [737, 1438, 849, 1416, 1047, 783, 799, 605, 782, 1363]\n",
      "319 [435, 253, 11, 480, 589]\n",
      "320 [5881, 60397, 96610, 104841, 6942, 60069, 7438, 5445, 39183, 27831]\n",
      "321 [1760, 1918, 568, 1883, 1464, 1171, 21, 1132, 1625, 2395]\n",
      "322 [906, 3963, 3251, 2206, 931, 924, 2024, 3897, 3788, 1968]\n",
      "323 [236, 858]\n",
      "324 [4638, 5481, 1917, 86332, 7458, 106487, 4874, 8644, 41569, 149532]\n",
      "325 [1569]\n",
      "326 [60, 653, 3308, 1374, 1193]\n",
      "327 [1479, 2826, 6537, 2628, 2640, 3087, 2268, 296, 608, 260]\n",
      "328 [432, 2142, 3751, 6239, 4366, 2139, 151, 2087, 480, 1073]\n",
      "329 [5, 104, 708, 802, 494, 260]\n",
      "330 [3258, 231, 707, 22, 350, 165, 389, 2353, 3256, 2336]\n",
      "331 [2717, 3254, 2470, 80463, 5618]\n",
      "332 [315, 39446, 1241, 3535, 163, 27022, 6333, 7438, 7022]\n",
      "333 [74789, 7293, 5218, 5985, 74787, 81562, 47610, 4886, 3114, 1265]\n",
      "334 [60069, 6874, 1, 8873, 115713, 356, 318, 3462]\n",
      "335 [169, 6818, 3984, 2993, 2949, 3147, 922]\n",
      "336 [4191, 1269, 260, 904]\n",
      "337 [1321, 1200, 260]\n",
      "338 [153, 410, 168, 282, 292, 2, 39, 648, 588, 595]\n",
      "339 [5809, 116823, 130490, 4018, 36519, 1608, 53125, 266, 53972, 5888]\n",
      "340 [3972, 7360, 1222, 293, 1704, 7502]\n",
      "341 [36527, 2336, 2396, 1272]\n",
      "342 [2906, 1295, 2657, 3169, 2565, 321, 2712, 1344, 733, 1962]\n",
      "343 [1422, 1485, 1552, 1006, 1112, 1672, 36, 994, 858]\n",
      "344 [413, 153, 231, 442, 434, 367, 5, 1027, 1320, 504]\n",
      "345 [2383, 2770, 3882, 370, 1375, 2657, 3052, 539, 5299, 2302]\n",
      "346 [5247, 2054, 344, 4275, 4587, 2034, 1391, 1126, 5463, 367]\n",
      "347 [33493]\n",
      "348 [574, 337, 1358, 1682, 2076, 1952, 2324, 1348, 593, 778]\n",
      "349 [880, 4344, 4367, 4299, 3949, 1222, 1210, 1961]\n",
      "350 [3946, 432, 3999, 4247, 5438, 3994, 4776, 2803, 454, 1127]\n",
      "351 [1129, 2792, 4008, 1580, 3793, 2791, 1269, 1035, 4007, 1207]\n",
      "352 [26903, 67255, 4016, 85780, 27904, 1907, 3793, 97913, 6283, 2115]\n",
      "353 [6383, 6593, 432, 784, 5316, 8860, 46530, 3977, 153, 45732]\n",
      "354 [44, 153, 592, 165, 253, 380, 594, 440, 596, 590]\n",
      "355 [3593, 8985, 6707, 7046, 4643, 5378, 1342, 6537, 6250, 5833]\n",
      "356 [2688, 55444, 994]\n",
      "357 [432, 48, 203, 249, 265, 272]\n",
      "358 [2383, 1556, 2473, 65, 2385, 2794, 2950, 2095, 435, 2262]\n",
      "359 [4069, 2384, 3100, 2336, 30707, 1959, 912]\n",
      "360 [2391, 1036, 2313, 1674, 47, 593]\n",
      "361 [3, 1405, 736, 783, 100, 376, 802, 780, 1183, 805]\n",
      "362 [4296, 4370, 288, 2730, 3404, 1125, 4246, 1339, 616, 6942]\n",
      "363 [2450, 2446, 2054, 1372, 2641, 346, 2294, 948, 2775, 198]\n",
      "364 [7161, 109249, 66934, 64957, 1732, 541, 31658]\n",
      "365 [5481, 1772, 2081, 3398, 914, 480, 3635, 33794, 2863, 1961]\n",
      "366 [61348, 2642, 2881, 724, 4246, 2139, 2761, 8961, 4011]\n",
      "367 [172, 4621, 4344, 37727, 4270, 6564, 4954, 95, 1518, 5459]\n",
      "368 [2724, 3176, 593]\n",
      "369 [185, 597, 292, 165, 2, 10, 500, 509, 595, 457]\n",
      "370 [7366, 4975, 2770, 1371, 2617, 329, 1645, 1275, 509, 1756]\n",
      "371 [94780, 59421, 60072, 71838, 3285, 5872, 122904, 45447, 45720, 60950]\n",
      "372 [1641, 945, 1230, 2935, 955, 969]\n",
      "373 [2382, 1091, 2054, 2416, 2710, 2241, 2567, 2022, 2657, 2112]\n",
      "374 [5151, 5378, 5225, 1197]\n",
      "375 [165, 454, 377, 595, 589]\n",
      "376 [4270, 2969, 4239, 3330, 4223, 910, 4432, 3467, 4361, 942]\n",
      "377 [1848, 4899, 4980, 2124, 595]\n",
      "378 [2500, 130580, 114265, 96373, 50912, 7323, 95873, 2729, 6377, 3967]\n",
      "379 [3113, 2278, 7438, 48394, 30707, 8665, 4963, 1, 63082, 457]\n",
      "380 [880, 6503, 82095, 3248, 110730, 42011, 2456, 1591, 58025, 5900]\n",
      "381 [3299, 360, 1603, 186, 3785, 3157, 3173, 1917, 5, 270]\n",
      "382 [101612, 2084, 4090, 4745, 3051, 231, 586, 36401, 1917, 27706]\n",
      "383 [95, 100, 68, 780, 798, 52, 562, 1080, 36, 671]\n",
      "384 [6482, 43919, 6503, 193, 6888, 3997, 2986, 42723, 7454, 5296]\n",
      "385 [420, 442, 145, 316, 380, 454, 39, 500, 349, 230]\n",
      "386 [2722, 3053, 2710, 1917, 3798, 3535, 31, 2394, 2336, 3081]\n",
      "387 [1113, 585, 3093, 1083, 2941, 949, 2069, 1943, 3545, 5866]\n",
      "388 [2380, 2574, 2253, 2373, 330, 358, 2796, 2735, 482, 1836]\n",
      "389 [276, 153, 135, 248, 95, 225, 207, 333, 590, 62]\n",
      "390 [1113, 204, 1409, 135, 9, 434, 303, 168, 379, 708]\n",
      "391 [506, 277, 587, 892, 493, 1721, 1268, 1290, 96, 1171]\n",
      "392 [3157, 605, 8784, 2329, 2959, 2858, 1203]\n",
      "393 [5065, 2747, 2453, 5917, 5673, 934, 753, 235, 6380, 1394]\n",
      "394 [256, 585, 185, 55167, 2628, 76293, 6365, 277, 1375, 47997]\n",
      "395 [2628, 2455, 1527, 1374, 2010, 671]\n",
      "396 [519, 542, 44, 276, 234, 158, 434, 185, 24, 1015]\n",
      "397 [519, 71211, 71520, 72701, 69275, 71535, 72171, 59784, 65261, 8132]\n",
      "398 [173, 3785, 1011, 2111, 648, 1967, 3396, 3671, 1197]\n",
      "399 [434, 481, 509, 480, 47, 194]\n",
      "400 [316, 253, 454, 594, 590, 21, 349, 300, 348, 47]\n",
      "401 [2719, 3919, 2628, 879, 3699, 2105, 2355, 2005, 3702, 1097]\n",
      "402 [82461, 36525, 58315, 79695, 4343, 132046, 3617, 216, 1876, 69526]\n",
      "403 [1321, 1, 1333]\n",
      "404 [2269, 5464, 5401, 5382, 5372, 1287]\n",
      "405 [3248, 5943, 3764, 2471, 315, 2269, 674, 4958, 4587, 4310]\n",
      "406 [7925, 98126, 103444, 1873, 364, 26662, 68954, 3742, 1258, 44191]\n",
      "407 [4975, 3285, 2369, 3145, 3163, 2282, 6268, 3903, 3082, 1684]\n",
      "408 [2136, 327, 2710, 2724, 522, 2714, 1658, 2433, 2161, 180]\n",
      "409 [15, 22, 592, 477, 35, 32, 16, 309, 154, 272]\n",
      "410 [380, 500, 480, 296]\n",
      "411 [1997, 1754, 1500, 1196]\n",
      "412 [4143, 1644, 420, 2546, 4270, 3785, 4344, 3986, 2724, 3744]\n",
      "413 [95, 494]\n",
      "414 [1668, 4130, 46, 346, 1507, 439, 4550, 5834, 524, 4932]\n",
      "415 [592, 780, 110, 356]\n",
      "416 [208, 344, 358, 158, 88, 466, 282, 236, 140, 587]\n",
      "417 [3753, 8376, 5014, 104, 1792, 5945, 4499, 5152, 5349, 349]\n",
      "418 [4638, 6595, 40339, 344, 673, 3744, 434, 8361, 48, 4254]\n",
      "419 [3977, 5572, 2001, 5299, 342, 3948, 2302, 2959, 527]\n",
      "420 [355, 1027, 1721, 914, 1032, 1333, 1235, 1224, 1704, 1280]\n",
      "421 [316, 266, 480, 349, 300, 265, 318]\n",
      "422 [1977, 2706, 3148, 848, 509, 377, 1183, 2791, 1, 1266]\n",
      "423 [72378, 153, 1405, 2148, 180, 2407, 4776, 4558, 5218, 165]\n",
      "424 [1250]\n",
      "425 [5464, 6539, 2762, 3578, 293, 1198, 318]\n",
      "426 [2054, 7318, 55995, 1876, 367, 71252, 5502, 74228, 56174, 5480]\n",
      "427 [6772, 27822, 103137, 3993, 2541, 8376, 4765, 5015, 3903, 2165]\n",
      "428 [413, 256, 1917, 1405, 592, 48774, 8636, 69122, 45722, 33794]\n",
      "429 [1644, 2316, 2337, 7153, 2329, 4128, 2959, 4226]\n",
      "430 [43836, 344, 153, 231, 3, 736, 42013, 42738, 7158, 104]\n",
      "431 [420, 2004, 3994, 2012, 1517, 6218, 3751, 377, 1050, 1059]\n",
      "432 [6040, 1320, 2700, 4262, 2028, 1258, 5225, 296, 593]\n",
      "433 [3994, 4776, 592, 6953, 6936, 53996, 2011, 45499, 3175, 5954]\n",
      "434 [1404, 1488, 1003, 1665, 1721, 1573, 494, 848, 594, 816]\n",
      "435 [1721, 1127, 1348]\n",
      "436 [755, 2573, 4970, 1955, 2313, 1084, 2351, 1208, 2068, 1964]\n",
      "437 [709, 610, 380, 362, 661, 551, 232]\n",
      "438 [112552, 99114, 79132, 109487, 92259]\n",
      "439 [3785, 196, 3821, 674, 442, 4025, 3827, 2034, 1391, 185]\n",
      "440 [273, 316, 595, 110, 47, 593, 50]\n",
      "441 [592, 587, 94, 4384, 164, 5135, 1635, 3060, 5669, 1242]\n",
      "442 [7318, 153, 367, 3, 736, 44022, 52245, 46970, 592, 1378]\n",
      "443 [89864, 57504, 27660, 1200, 7099, 541, 65261, 2571, 260, 1196]\n",
      "444 [3969, 4008]\n",
      "445 [1591, 2384, 37741, 296, 318]\n",
      "446 [6333, 115713, 5952, 7153]\n",
      "447 [160, 234, 237, 168, 282, 329, 553, 2, 25, 17]\n",
      "448 [68358, 480, 1, 1210]\n",
      "449 [225, 47, 318]\n",
      "450 [153584, 99030, 129313, 80717, 94466, 5445, 3949, 122882, 4306, 1222]\n",
      "451 [1865, 2541, 52, 1441, 1797, 1288, 2804, 2693, 1197, 2959]\n",
      "452 [5452, 413, 2713, 2385, 3990, 427, 7366, 6013, 2121, 518]\n",
      "453 [3268, 2701, 2153, 44, 694, 1431, 3827, 1377, 736, 1566]\n",
      "454 [2959]\n",
      "455 [1909, 592, 2167, 648, 480, 457, 3147, 47, 1060]\n",
      "456 [3977, 130448, 8644, 107081, 106473, 72998, 3793, 3702, 122882, 3996]\n",
      "457 [374, 1977, 413, 3248, 2794, 3243, 2416, 6615, 4621, 3968]\n",
      "458 [2701, 3717, 1377, 597, 2706, 2539, 165, 454, 648, 377]\n",
      "459 [653, 648, 1356]\n",
      "460 [784, 5303, 4621, 585, 3882, 95, 3988, 4447, 410, 2335]\n",
      "461 [1562, 2642, 3354, 1438, 420, 1388, 4291, 1995, 2735, 485]\n",
      "462 [587, 3253, 3176, 1396, 543, 440, 1580, 4321, 357, 1500]\n",
      "463 [160, 2422, 2421, 4344, 2471, 4975, 5620, 3623, 2311, 6308]\n",
      "464 [173, 610, 588, 262]\n",
      "465 [2581, 27706, 3452, 5816, 40815, 838, 40629, 2959, 858]\n",
      "466 [1091, 761, 3130, 674, 709, 2369, 2683, 2470, 2405, 2]\n",
      "467 [2188, 2724, 523, 1513, 2539, 2336, 2166, 2725, 1584, 1213]\n",
      "468 [2701, 1831, 3979, 1499, 880, 160, 6593, 2953, 5943, 1591]\n",
      "469 [719, 1479, 1093, 72612, 8784, 3210, 838, 555]\n",
      "470 [3264, 172, 7454, 6541, 6754, 2746, 25763, 1206, 965, 1333]\n",
      "471 [2383, 2719, 1707, 3824, 2253, 2710, 1992, 2724, 8526, 1544]\n",
      "472 [1760, 2713, 45501, 1865, 2724, 2770, 5378, 2554, 2881, 369]\n",
      "473 [765, 111617, 6157, 100083, 83349, 3489, 8984, 101142, 104, 2]\n",
      "474 [2944, 909, 3101, 1214, 1466, 1197]\n",
      "475 [102880, 6503, 4386, 5504, 4735, 105755, 5128, 58025, 122902, 53993]\n",
      "476 [2710, 3752, 3174, 785, 2706, 2997, 2396, 2959, 1198, 2858]\n",
      "477 [83613, 1376, 4571, 1527, 1032]\n",
      "478 [8984, 59022, 106918, 138036, 91542, 8368, 1270, 30812, 79132, 4995]\n",
      "479 [367, 104, 8622, 54503, 89864, 1387, 5816, 79132, 59315, 1961]\n",
      "480 [2082, 59421, 45672, 784, 158, 3438, 586, 185, 367, 5833]\n",
      "481 [47721, 3863, 7162, 45447, 6365, 288, 44694, 4246, 2763, 8533]\n",
      "482 [1355, 2635, 2652, 1214, 32, 2780, 2288, 2644, 1258, 2366]\n",
      "483 [106487, 91500, 102125, 3527, 88744, 3793, 93840, 122900, 7438, 1527]\n",
      "484 [788, 104, 640, 780]\n",
      "485 [31, 2150, 3396]\n",
      "486 [86911, 4370, 1917, 2572, 3948, 102125, 102481, 7206, 54503, 480]\n",
      "487 [160, 208, 186, 340, 95, 552, 225, 48, 304, 736]\n",
      "488 [2826, 71899, 8014, 61236, 7361, 7153, 48738, 6016]\n",
      "489 [24, 282, 2700, 2987, 1246, 924]\n",
      "490 [112, 780, 628, 58]\n",
      "491 [2722, 2107, 2356, 2976, 39, 2763, 125, 299, 86, 1392]\n",
      "492 [1733, 620, 1174, 690, 495, 247, 1406, 1132, 1176, 1625]\n",
      "493 [1894, 2860, 239, 48, 2297, 1835, 140, 2485, 207, 1569]\n",
      "494 [78469, 3752, 60069, 1210, 3578, 1947, 2329, 4011, 1704, 48738]\n",
      "495 [208, 292, 595, 161, 47]\n",
      "496 [160, 544, 432, 420, 208, 315, 338, 23, 552, 277]\n",
      "497 [2262, 2470, 496, 2371, 1150, 2406, 1185, 1097, 1663, 2859]\n",
      "498 [520, 1136]\n",
      "499 [1461, 3742, 913, 50, 926]\n",
      "500 [7173, 66509, 3977, 2724, 5481, 586, 4447, 3863, 48, 4018]\n",
      "501 [39446, 5459, 72407, 32031, 8360, 25911, 78729, 74624, 74545, 63436]\n",
      "502 [231, 1051, 786, 804, 785, 999, 1517, 198, 1059, 1049]\n",
      "503 [208, 60069, 1210, 1089, 78499, 593, 953]\n",
      "504 [1882, 1887, 2190]\n",
      "505 [8361, 2012, 1608, 25891, 2431, 6413, 949, 539, 2662, 2915]\n",
      "506 [344, 648, 1, 32]\n",
      "507 [653, 376, 648, 141, 1061, 1356, 745]\n",
      "508 [355, 597, 380, 500, 594, 261, 480, 41, 457, 1079]\n",
      "509 [42, 2794, 1644, 806, 1503, 1865, 2598, 3977, 2735, 2702]\n",
      "510 [696, 482, 433, 2112, 1689, 3418, 509, 1046, 2863, 1185]\n",
      "511 [11, 337, 25, 280, 608]\n",
      "512 [2424, 126548, 74458, 63082, 5989]\n",
      "513 [590, 457, 318]\n",
      "514 [518, 415, 558, 407, 585, 442, 1377, 231, 331, 506]\n",
      "515 [519, 69280, 2080, 33794, 4886, 4995]\n",
      "516 [193, 19, 173, 836, 267, 177, 315, 338, 153, 1037]\n",
      "517 [186, 185, 587, 316, 380, 480, 47]\n",
      "518 [546, 2450, 1359, 1595, 2643, 1381, 2816, 1526, 2642, 2082]\n",
      "519 [3535, 140715, 2700, 3253, 4002, 103341, 7302, 120805, 129514, 130970]\n",
      "520 [2389, 3316, 5449, 3755, 7163, 2355, 733, 1653, 6539, 1387]\n",
      "521 [1372, 376, 1747, 2329, 2571, 1196, 4993, 904, 50]\n",
      "522 [1831, 2379, 344, 673, 8363, 367, 1917, 3173, 4974, 87869]\n",
      "523 [367, 2161, 587, 53322, 1645, 539, 1923, 4568, 5349, 3100]\n",
      "524 [303, 1717, 2485, 648, 71810, 59721, 4239, 4896, 428, 6539]\n",
      "525 [3439, 3986, 2533, 3489, 1372, 4911, 1101, 1608, 4874, 2006]\n",
      "526 [5679, 112556, 4995, 50872, 85414]\n",
      "527 [736, 26649, 2628, 2427, 292, 1923, 33660, 2115, 6377, 1307]\n",
      "528 [3785, 3755, 442, 4643, 3825, 1772, 2427, 5401, 1923, 2496]\n",
      "529 [26366, 1353, 2367, 3163, 3769, 5015, 7158, 1569, 97752, 2671]\n",
      "530 [673, 1544, 1605, 1409, 239, 1690, 367, 736, 804, 1566]\n",
      "531 [63992, 59421, 788, 410, 2622, 2424, 2683, 2, 59725, 1088]\n",
      "532 [370, 466, 2617, 1597, 2572, 733, 3101, 6377, 1291, 7153]\n",
      "533 [1726, 2642, 1620, 491, 1721, 2455, 509, 3807, 3527, 3098]\n",
      "534 [291, 258, 2827, 1644, 173, 3064, 208, 742, 2126, 1833]\n",
      "535 [173, 434, 410, 288, 799, 350, 292, 316, 141, 11]\n",
      "536 [181, 250, 158, 216, 248, 295, 195, 237, 277, 554]\n",
      "537 [273, 252, 95, 1027, 1614, 105, 7, 1306, 801, 57]\n",
      "538 [509, 595]\n",
      "539 [3418, 3072, 296, 1172]\n",
      "540 [5309, 5218, 1125, 4973]\n",
      "541 [3593, 3354, 2840, 1127, 2707, 2908, 2762, 356, 923]\n",
      "542 [3646, 74789, 74530, 4896, 5445, 4886, 6539, 54001, 81834, 4306]\n",
      "543 [1562, 761, 3, 1367, 736, 848, 661]\n",
      "544 [5502, 3569, 6365, 5528, 86190, 4874, 91500, 5945, 2455, 48385]\n",
      "545 [1667, 2704, 2706, 2757, 1183, 1059, 2348, 2302, 1273, 1186]\n",
      "546 [231, 4370, 145, 3176, 5445, 60161, 1214, 7153, 2571]\n",
      "547 [8373, 518, 4654, 3528, 3269, 2546, 45501, 186, 4344, 95307]\n",
      "548 [784, 344, 23, 5, 168, 350, 785, 329, 708, 76]\n",
      "549 [3555, 3698, 3087, 4019, 1680]\n",
      "550 [172, 153, 1590, 1372, 1918, 665, 3082, 1722, 2405, 380]\n",
      "551 [519, 1010, 548, 1007, 1083, 1011, 667, 1018, 648, 590]\n",
      "552 [1037, 466, 597, 165, 588, 508, 551]\n",
      "553 [4958, 3753, 736, 86332, 6365, 33679, 106002, 60040, 52973, 5152]\n",
      "554 [1977, 2471, 1676, 4521, 1230, 4993, 858]\n",
      "555 [273, 144, 249, 802, 10, 509, 114, 480, 82, 1041]\n",
      "556 [208, 586, 292, 474, 50]\n",
      "557 [1381, 56176, 1592, 631, 74789, 50189, 2085, 2124, 1517, 6624]\n",
      "558 [1503, 3802, 2311, 4148, 3747, 3994, 4132, 3809, 3128, 3624]\n",
      "559 [1409, 3, 1569, 991, 376, 1517, 1414, 2018, 2081, 1584]\n",
      "560 [519, 455, 344, 3273, 3535, 2335, 2294, 2012, 597, 1722]\n",
      "561 [355, 51077, 7366, 327, 4025, 4643, 1391, 46965, 6709, 6373]\n",
      "562 [586, 1676, 786, 736, 282, 1909, 2012, 2683, 1721, 1573]\n",
      "563 [267, 442, 95441, 97860, 32596, 97752, 62331, 107314, 72998, 100383]\n",
      "564 [2555, 181, 2995, 405, 519, 1581, 473, 291, 1681, 1977]\n",
      "565 [3148, 1748, 2779, 1358, 1537, 1266, 2858, 994]\n",
      "566 [102125]\n",
      "567 [122882, 924, 1206, 1258, 1213, 593, 260, 750, 2858, 318]\n",
      "568 [736, 165, 377, 480, 349, 733, 300, 474]\n",
      "569 [3082, 1608, 3256, 902, 2919, 1393, 3801, 474, 931, 110]\n",
      "570 [37727, 60072, 2617, 8644, 6156, 1608, 4896, 5445, 103141, 91630]\n",
      "571 [4343, 4159, 55765, 52462, 54997]\n",
      "572 [7454, 52722, 5872, 5219, 42738, 36519, 56949, 6586, 5574, 49286]\n",
      "573 [2390, 2081, 1907, 596, 36, 1617, 527, 1256]\n",
      "574 [2380, 1562, 193, 2953, 2082, 762, 4015, 673, 47044, 3273]\n",
      "575 [2882, 1713, 2136, 765, 5048, 3157, 3430, 1409, 1007, 3827]\n",
      "576 [2006, 480, 1797, 1537, 1036, 1210, 3471, 260, 1196]\n",
      "577 [7454, 586, 367, 48, 736, 3479, 6743, 1597, 4776, 32596]\n",
      "578 [5014, 33660, 2028, 1259, 2959, 50]\n",
      "579 [65, 3991, 91104, 2141, 1892, 4016, 4226, 2664]\n",
      "580 [3593, 880, 762, 4624, 2986, 60, 540, 208, 673, 72378]\n",
      "581 [502, 8935, 7283, 61465, 4753, 3256]\n",
      "582 [1760, 6316, 6345, 5254, 3489, 3052, 2394, 4238, 339, 2167]\n",
      "583 [99114, 49530, 296]\n",
      "584 [8985, 519, 74532, 71838, 3623, 6951, 2706, 1721, 74450, 2167]\n",
      "585 [3861, 892, 1042, 1129, 3253, 2174, 45, 648, 3108, 3244]\n",
      "586 [849, 165, 5349, 3256, 2944, 480, 2949, 57353, 6711, 6539]\n",
      "587 [5481, 3816, 6115, 2657, 5464, 1380, 6993, 4022, 906, 6073]\n",
      "588 [367, 329, 380, 339, 21, 25, 161, 471, 223, 589]\n",
      "589 [405, 44, 153, 204, 231, 442, 95, 590, 480, 150]\n",
      "590 [435, 432, 231, 317, 367, 5, 370, 168, 592, 588]\n",
      "591 [3052, 1380, 1282, 1097, 5060, 3868, 720, 953]\n",
      "592 [4344, 3617, 1690, 367, 1917, 1017, 2671, 3404, 780, 588]\n",
      "593 [344, 442, 273, 597, 616, 380, 648, 141, 555, 589]\n",
      "594 [1784, 1, 1394, 110, 1200, 608, 1223, 1304, 1196, 527]\n",
      "595 [3615, 3623, 1367, 2059, 48, 2015, 2294, 2033, 1188, 1033]\n",
      "596 [3113, 355, 2953, 6058, 1644, 327, 4146, 3986, 443, 4343]\n",
      "597 [2720, 2699, 1917, 2668, 2015, 1909, 906, 588, 34, 2613]\n",
      "598 [2701, 3238, 5313, 5530, 3977, 4975, 3617, 3273, 4992, 2771]\n",
      "599 [3225, 68319, 5620, 67788, 66203, 69606, 95510, 68554, 74789, 59333]\n",
      "600 [90866, 2081, 81847, 91542, 4886, 2096, 79132, 111921, 106782]\n",
      "601 [3755, 4148, 6953, 7254, 3210, 69757, 6870, 6502, 70286, 4878]\n",
      "602 [177, 288, 180, 292, 45, 107, 647, 596, 11, 349]\n",
      "603 [60, 761, 442, 317, 1320, 736, 277, 1101, 1566, 1014]\n",
      "604 [2990, 3256, 4623, 3671]\n",
      "605 [829, 4124, 2422, 258, 173, 2262, 344, 2428, 3841, 3785]\n",
      "606 [1562, 3254, 3740, 4979, 1103, 3897, 1968, 2918, 72226, 1203]\n",
      "607 [1713, 737, 3146, 432, 485, 5507, 1479, 442, 1377, 434]\n",
      "608 [2701, 3218, 1865, 1627, 2340, 95, 3555, 3569, 2628, 2585]\n",
      "609 [3973, 1902, 2767, 443, 2482, 1450, 614, 4026, 4984, 4538]\n",
      "610 [1894, 2717, 34437, 5013, 27611, 1653, 84847, 6870, 31410, 2761]\n",
      "611 [5254, 3623, 2167, 45722, 4963]\n",
      "612 [34048, 5378, 2683, 91500, 1777, 7445, 69122, 5679, 40815, 2502]\n",
      "613 [1042, 1663, 4361, 2329, 48780, 1960, 2858, 50, 858]\n",
      "614 [1544, 3555, 48, 1821, 2165, 3148, 500, 1594, 947, 910]\n",
      "615 [58293, 6534, 110730, 1091, 442, 52722, 4447, 103253, 3969, 122904]\n",
      "616 [765, 719, 140, 832, 62, 805, 32, 858]\n",
      "617 [1991, 2541, 799, 2315, 3052, 253, 1777, 2572, 2355, 1997]\n",
      "618 [4811, 3996, 912, 1219]\n",
      "619 [432, 208, 410, 316, 380, 595, 300, 296]\n",
      "620 [72378, 78637, 4310, 5378, 84374, 106487, 94777, 91500, 98809, 122886]\n",
      "621 [2473, 2794, 344, 253, 8610, 5780, 4478, 6718, 2686, 1032]\n",
      "622 [100553, 48394, 112852, 58559, 1198, 108979, 1196]\n",
      "623 [2382, 3146, 2827, 344, 45517, 3972, 648, 1923, 4896, 480]\n",
      "624 [3593, 2383, 1556, 2701, 1562, 3646, 6503, 688, 2379, 355]\n",
      "625 [4638, 3785, 33004, 48774, 96610, 41566, 89864, 106642, 3160, 97938]\n",
      "626 [1556, 1984, 2713, 3946, 3354, 3511, 2888, 1833, 2840, 3752]\n",
      "627 [1586, 48877, 3484, 208, 4025, 39446, 6373, 2470, 2671, 6953]\n",
      "628 [2100, 1188, 44694, 1747, 5954, 3681, 4855, 6502, 31410, 1610]\n",
      "629 [24, 586, 596, 590, 356, 296]\n",
      "630 [3948, 2712, 131724, 1247, 1252]\n",
      "631 [1438, 1687, 1722, 1183, 1619]\n",
      "632 [609, 1015, 4623, 4963, 110, 2501]\n",
      "633 [587, 380, 440, 480, 62, 357]\n",
      "634 [256, 2021, 3255, 86781, 4085, 3671, 318]\n",
      "635 [1485, 3994, 1222, 1201, 1089, 608, 593, 111, 50]\n",
      "636 [736, 663, 29, 608]\n",
      "637 [3107, 2746, 2944, 3361, 2580, 50, 858]\n",
      "638 [1882, 2094, 4792, 2572, 1223]\n",
      "639 [160, 191, 185, 381, 46, 277, 31, 329, 592, 170]\n",
      "640 [761, 784, 609, 5, 104, 1059, 1476, 1398, 36, 1210]\n",
      "641 [536, 208, 705, 153, 351, 627, 317, 724, 736, 830]\n",
      "642 [1676, 1414, 1601, 1639, 924, 942, 913]\n",
      "643 [8387, 3452, 1385, 4701, 98809, 318]\n",
      "644 [2710, 2628, 2683, 2394, 2093, 235, 348, 2395, 2762, 527]\n",
      "645 [2054, 277, 2617, 316, 3176, 1302, 3408, 2987, 1619]\n",
      "646 [2701, 519, 2053, 3354, 258, 432, 1388, 1702, 3157, 1016]\n",
      "647 [2126, 2715, 170, 1645, 1589, 2353, 2336, 1273, 247, 2280]\n",
      "648 [87485, 47423, 48, 104, 1721, 3263, 2167, 500, 6291, 128616]\n",
      "649 [327, 44, 172, 586, 329, 491, 112, 468, 477, 10]\n",
      "650 [4, 694, 191, 3, 5, 736, 76, 10, 141]\n",
      "651 [1907, 1198]\n",
      "652 [4090, 338, 6294, 6060, 2340, 3914, 24, 185, 101415, 3466]\n",
      "653 [688, 3004, 3051, 1015, 3082, 1042, 1517, 39, 261, 364]\n",
      "654 [2643, 2713, 2082, 2794, 6287, 19, 2986, 60, 2722, 3264]\n",
      "655 [3617, 2617, 316, 2174, 163, 1923, 1799, 143859, 588, 3175]\n",
      "656 [2906, 2188, 2881, 2861, 2628, 2520, 2763, 3909, 2686, 4034]\n",
      "657 [344, 153, 329]\n",
      "658 [1608, 468, 1747, 2321, 151, 2087, 161, 364, 2716, 2291]\n",
      "659 [160, 355, 367, 188, 788, 144, 249, 597, 592, 748]\n",
      "660 [5378, 135518, 106487, 86298, 60069, 111362, 103141, 30707, 112852, 40815]\n",
      "661 [481, 1242, 46578, 5952, 3363]\n",
      "662 [455, 344, 208, 204, 185, 587, 454, 47, 356]\n",
      "663 [132046, 134528, 138204, 111781, 128512, 1270, 134368, 134853, 2571]\n",
      "664 [59615, 69306, 33085, 4344, 8810, 94018, 87520, 71838, 39446, 3623]\n",
      "665 [2497, 3225, 3997, 4368, 4167, 2122, 1100, 2558, 3004, 2806]\n",
      "666 [19, 420, 153, 185, 252, 508]\n",
      "667 [350, 468, 266, 454, 377, 321, 345, 480, 82, 508]\n",
      "668 [6425, 3039, 1358]\n",
      "669 [2702, 3326, 2688, 2959, 1953]\n",
      "670 [2912, 2291, 457, 2858]\n",
      "671 [432, 6365, 5299, 1923, 4896, 4308, 590, 6385, 357, 3060]\n"
     ]
    }
   ],
   "source": [
    "# Predicting top-N recommendations for each user\n",
    "# --------------------------------------\n",
    "\n",
    "# Using algo_svd_optimized model to make recommendations\n",
    "predictions = algo_svd_optimized.test(testset, verbose = False)\n",
    "# Return the top-N recommendation for each user \n",
    "top_n = get_top_n(predictions, n = 10)\n",
    "# sorting user in ascending order\n",
    "od = OrderedDict(sorted(top_n.items()))\n",
    "# Print the recommended items for each user\n",
    "for uid, user_ratings in od.items():\n",
    "    print(uid, [iid for (iid, _) in user_ratings])"
   ]
  },
  {
   "cell_type": "code",
   "execution_count": null,
   "metadata": {},
   "outputs": [],
   "source": []
  }
 ],
 "metadata": {
  "colab": {
   "collapsed_sections": [
    "9hczXgBkvOOG",
    "ewHMWerQ2N9T",
    "fBZYy0HavOOH",
    "UOBD03d9vOOH",
    "mR9tzSzTvOOH",
    "JQgjqRnevOOI",
    "0kXJ_iTEvOOI",
    "lHReghdivOOI",
    "hkz4LlTpvOOK",
    "KRFTrsBVvOOK"
   ],
   "name": "Case_Study_Recommendation_Systems_Part_1_v4.ipynb",
   "provenance": []
  },
  "kernelspec": {
   "display_name": "Python 3.10.5 64-bit",
   "language": "python",
   "name": "python3"
  },
  "language_info": {
   "codemirror_mode": {
    "name": "ipython",
    "version": 3
   },
   "file_extension": ".py",
   "mimetype": "text/x-python",
   "name": "python",
   "nbconvert_exporter": "python",
   "pygments_lexer": "ipython3",
   "version": "3.10.5"
  },
  "vscode": {
   "interpreter": {
    "hash": "56b7ddecb5f8b0aea4e22286f801c765f2699cdf65124c981557f68eafdae354"
   }
  }
 },
 "nbformat": 4,
 "nbformat_minor": 1
}
